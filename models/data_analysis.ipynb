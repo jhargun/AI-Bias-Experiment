{
 "cells": [
  {
   "cell_type": "code",
   "execution_count": null,
   "metadata": {},
   "outputs": [],
   "source": [
    "import pandas as pd\n",
    "import numpy as np"
   ]
  },
  {
   "cell_type": "code",
   "execution_count": null,
   "metadata": {},
   "outputs": [],
   "source": [
    "train_df = pd.read_csv('dataset/train_split_partially_preprocessed.csv')"
   ]
  },
  {
   "cell_type": "code",
   "execution_count": null,
   "metadata": {},
   "outputs": [],
   "source": [
    "test_df = pd.read_csv('dataset/test_split_partially_preprocessed.csv')"
   ]
  },
  {
   "cell_type": "code",
   "execution_count": null,
   "metadata": {},
   "outputs": [],
   "source": [
    "assert(len(train_df.columns) == len(test_df.columns))"
   ]
  },
  {
   "cell_type": "code",
   "execution_count": null,
   "metadata": {},
   "outputs": [],
   "source": [
    "full_df = pd.concat([train_df, test_df])"
   ]
  },
  {
   "cell_type": "code",
   "execution_count": null,
   "metadata": {},
   "outputs": [],
   "source": [
    "# Add speaks no english column (makes data analysis easier)\n",
    "full_df['speaks_no_english'] = ~(full_df.speaksEnglish | full_df.speaksEnglishWell | full_df.speaksOnlyEnglish)\n",
    "train_df['speaks_no_english'] = ~(train_df.speaksEnglish | train_df.speaksEnglishWell | train_df.speaksOnlyEnglish)\n",
    "test_df['speaks_no_english'] = ~(test_df.speaksEnglish | test_df.speaksEnglishWell | test_df.speaksOnlyEnglish)"
   ]
  },
  {
   "cell_type": "code",
   "execution_count": null,
   "metadata": {},
   "outputs": [],
   "source": [
    "full_df.dtypes.value_counts()"
   ]
  },
  {
   "cell_type": "code",
   "execution_count": null,
   "metadata": {},
   "outputs": [],
   "source": [
    "full_df.INCWAGE_CPIU_2010.mean()"
   ]
  },
  {
   "cell_type": "code",
   "execution_count": null,
   "metadata": {},
   "outputs": [],
   "source": [
    "def printColsValues(df, dfName, cols):\n",
    "    print(f\"Values for {dfName} ({len(df)} entries)\\n\")\n",
    "    for col in cols:\n",
    "        print(f'Information for column {col}:')\n",
    "        if(df[col].dtype == 'float64' or df[col].dtype == 'int64'):\n",
    "            print(df[col].describe())\n",
    "        elif(df[col].dtype == 'object'):\n",
    "            print(f'True: {df[col].values.sum()}, False: {(~df[col]).values.sum()}, Null: {df[col].isnull().values.sum()}')\n",
    "        elif(df[col].dtype == 'bool'):\n",
    "            print(f'True: {df[col].values.sum()}, False: {(~df[col]).values.sum()}')\n",
    "        else:\n",
    "            raise Exception(f'Unknown type {df[col].dtype}')\n",
    "        print()"
   ]
  },
  {
   "cell_type": "code",
   "execution_count": null,
   "metadata": {},
   "outputs": [],
   "source": [
    "# There was a bug in an old implementation of printColsValues. It caused errors for boolean columns with more true values than false values. This function finds such columns.\n",
    "def findBugs(df, dfName, cols):\n",
    "    for col in cols:\n",
    "        if(df[col].dtype == 'object' or df[col].dtype == 'bool'):\n",
    "            if(df[col].values.sum() >= (~df[col]).values.sum()):\n",
    "                print(\"Error likely occured in\", col)"
   ]
  },
  {
   "cell_type": "code",
   "execution_count": null,
   "metadata": {},
   "outputs": [],
   "source": [
    "cols = [\n",
    "    'AGE', 'INCWAGE_CPIU_2010', 'isFemale', \n",
    "    'isAmericanIndian', 'isAsian', 'isBlack', 'isPacificIslander', 'isWhite', 'isOtherRace',\n",
    "    'hasHealthInsurance', 'hasPrivateHealthInsurance', 'hasPublicHealthInsurance',\n",
    "    'isInSchool', 'isHispanic',\n",
    "    'bornInUS', 'speaksEnglish', 'speaksOnlyEnglish', 'speaksEnglishWell',\n",
    "    'isMarried', 'wasMarried', 'neverMarried',\n",
    "    'sameSexMarriage', 'mixedRaceMarriage',\n",
    "    'isSelfEmployed', 'isPrivateSector', 'isPublicSector', 'isUnpaidFamilyWorker',\n",
    "    'noSchooling', 'maxGrade4',\n",
    "       'maxGrade8', 'maxSomeHS', 'highSchoolDiploma', 'someCollege',\n",
    "       'associatesDegree', 'bachelorsDegree', 'mastersDegree',\n",
    "       'bachelorsPlusProfessionalDegree', 'doctoralDegree', 'has2ndDegree',\n",
    "    \n",
    "]"
   ]
  },
  {
   "cell_type": "code",
   "execution_count": null,
   "metadata": {},
   "outputs": [],
   "source": [
    "for col in cols:\n",
    "    if(full_df[col].isna().values.any()):\n",
    "        print(f'Column {col} has NaN values')"
   ]
  },
  {
   "cell_type": "code",
   "execution_count": null,
   "metadata": {},
   "outputs": [],
   "source": [
    "findBugs(full_df, '', cols)"
   ]
  },
  {
   "cell_type": "code",
   "execution_count": null,
   "metadata": {},
   "outputs": [],
   "source": [
    "printColsValues(full_df, 'Full DF', cols)"
   ]
  },
  {
   "cell_type": "code",
   "execution_count": null,
   "metadata": {},
   "outputs": [],
   "source": [
    "findBugs(train_df, '', cols)"
   ]
  },
  {
   "cell_type": "code",
   "execution_count": null,
   "metadata": {},
   "outputs": [],
   "source": [
    "printColsValues(train_df, 'Train split', cols)"
   ]
  },
  {
   "cell_type": "code",
   "execution_count": null,
   "metadata": {},
   "outputs": [],
   "source": [
    "findBugs(test_df, '', cols)"
   ]
  },
  {
   "cell_type": "code",
   "execution_count": null,
   "metadata": {},
   "outputs": [],
   "source": [
    "printColsValues(test_df, 'Test split', cols)"
   ]
  },
  {
   "cell_type": "code",
   "execution_count": null,
   "metadata": {},
   "outputs": [],
   "source": [
    "df_0to25 = full_df[full_df['INCWAGE_CPIU_2010'] <= 25000]\n",
    "printColsValues(df_0to25, 'Under 25k salary', cols)"
   ]
  },
  {
   "cell_type": "code",
   "execution_count": null,
   "metadata": {},
   "outputs": [],
   "source": [
    "findBugs(df_0to25, '', cols)"
   ]
  },
  {
   "cell_type": "code",
   "execution_count": null,
   "metadata": {},
   "outputs": [],
   "source": [
    "df_25to50 = full_df[(full_df['INCWAGE_CPIU_2010'] > 25000) & (full_df['INCWAGE_CPIU_2010'] <= 50000)]\n",
    "printColsValues(df_25to50, '25k to 50k salary', cols)"
   ]
  },
  {
   "cell_type": "code",
   "execution_count": null,
   "metadata": {},
   "outputs": [],
   "source": [
    "findBugs(df_25to50, '', cols)"
   ]
  },
  {
   "cell_type": "code",
   "execution_count": null,
   "metadata": {},
   "outputs": [],
   "source": [
    "df_50to75 = full_df[(full_df['INCWAGE_CPIU_2010'] > 50000) & (full_df['INCWAGE_CPIU_2010'] <= 75000)]\n",
    "printColsValues(df_50to75, '50k to 75k salary', cols)"
   ]
  },
  {
   "cell_type": "code",
   "execution_count": null,
   "metadata": {},
   "outputs": [],
   "source": [
    "findBugs(df_50to75, '', cols)"
   ]
  },
  {
   "cell_type": "code",
   "execution_count": null,
   "metadata": {},
   "outputs": [],
   "source": [
    "df_over75 = full_df[(full_df['INCWAGE_CPIU_2010'] > 75000)]\n",
    "printColsValues(df_over75, 'Over 75k salary', cols)"
   ]
  },
  {
   "cell_type": "code",
   "execution_count": null,
   "metadata": {},
   "outputs": [],
   "source": [
    "findBugs(df_over75, '', cols)"
   ]
  },
  {
   "cell_type": "code",
   "execution_count": null,
   "metadata": {},
   "outputs": [],
   "source": [
    "for col in cols:\n",
    "    if full_df[col].dtype != 'bool':\n",
    "        continue\n",
    "\n",
    "    assert(not full_df[col].isna().values.any())\n",
    "\n",
    "    print(f'Of the people for whom {col} is true, salary information is:')\n",
    "    print(full_df[full_df[col]].INCWAGE_CPIU_2010.describe())\n",
    "    print(f'Of the people for whom {col} is false, salary information is:')\n",
    "    print(full_df[~full_df[col]].INCWAGE_CPIU_2010.describe())\n",
    "    print(\"\\n\")"
   ]
  },
  {
   "cell_type": "code",
   "execution_count": null,
   "metadata": {},
   "outputs": [],
   "source": [
    "assert(len(df_0to25) + len(df_25to50) + len(df_50to75) + len(df_over75) == len(full_df))\n",
    "\n",
    "for col in cols:\n",
    "    if full_df[col].dtype != 'bool':\n",
    "        continue\n",
    "\n",
    "    assert(not full_df[col].isna().values.any())\n",
    "\n",
    "    lower = df_0to25[col].values.sum()\n",
    "    lowerMid = df_25to50[col].values.sum()\n",
    "    upperMid = df_50to75[col].values.sum()\n",
    "    upper = df_over75[col].values.sum()\n",
    "\n",
    "    totalNum = full_df[col].values.sum()\n",
    "    assert(totalNum == lower + lowerMid + upperMid + upper)\n",
    "\n",
    "    print(f'Of the people for whom {col} is true ({totalNum} people), salary information is:')\n",
    "    print(f\"Number making <=25k: {lower}, number making 25-50k: {lowerMid}, number making 50-75k: {upperMid}, number making >75k: {upper}\")\n",
    "    print(f'Of the people for whom {col} is false ({len(full_df) - totalNum}), salary information is:')\n",
    "    print(f\"Number making <=25k: {len(df_0to25) - lower}, number making 25-50k: {len(df_25to50) - lowerMid}, number making 50-75k: {len(df_50to75) - upperMid}, number making >75k: {len(df_over75) - upper}\")\n",
    "    print(\"\\n\")"
   ]
  },
  {
   "cell_type": "code",
   "execution_count": null,
   "metadata": {},
   "outputs": [],
   "source": []
  }
 ],
 "metadata": {
  "kernelspec": {
   "display_name": "testing-torch",
   "language": "python",
   "name": "python3"
  },
  "language_info": {
   "codemirror_mode": {
    "name": "ipython",
    "version": 3
   },
   "file_extension": ".py",
   "mimetype": "text/x-python",
   "name": "python",
   "nbconvert_exporter": "python",
   "pygments_lexer": "ipython3",
   "version": "3.9.12"
  },
  "orig_nbformat": 4,
  "vscode": {
   "interpreter": {
    "hash": "a60c63dd419133ec943074489a186d09dce25069fc0d4ed86e3ad3c69baefe89"
   }
  }
 },
 "nbformat": 4,
 "nbformat_minor": 2
}
