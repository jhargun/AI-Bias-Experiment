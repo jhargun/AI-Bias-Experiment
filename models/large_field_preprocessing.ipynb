{
 "cells": [
  {
   "cell_type": "code",
   "execution_count": 1,
   "metadata": {},
   "outputs": [],
   "source": [
    "import pandas as pd\n",
    "import numpy as np\n",
    "import json"
   ]
  },
  {
   "cell_type": "code",
   "execution_count": 2,
   "metadata": {},
   "outputs": [
    {
     "name": "stderr",
     "output_type": "stream",
     "text": [
      "C:\\Users\\jaswi\\AppData\\Local\\Temp\\ipykernel_45292\\3040050841.py:2: DtypeWarning: Columns (37,47,48,49,50,51,52,53,54,55,56,57,58,59,60,76,77) have mixed types. Specify dtype option on import or set low_memory=False.\n",
      "  df = pd.read_csv('init_preprocessed_data_without_index.csv')\n"
     ]
    },
    {
     "data": {
      "text/plain": [
       "3252599"
      ]
     },
     "execution_count": 2,
     "metadata": {},
     "output_type": "execute_result"
    }
   ],
   "source": [
    "# Read the data\n",
    "df = pd.read_csv('init_preprocessed_data_without_index.csv')\n",
    "len(df)"
   ]
  },
  {
   "cell_type": "code",
   "execution_count": null,
   "metadata": {},
   "outputs": [],
   "source": [
    "df.columns"
   ]
  },
  {
   "cell_type": "code",
   "execution_count": null,
   "metadata": {},
   "outputs": [],
   "source": [
    "df.head()"
   ]
  },
  {
   "attachments": {},
   "cell_type": "markdown",
   "metadata": {},
   "source": [
    "Create state fields"
   ]
  },
  {
   "cell_type": "code",
   "execution_count": 3,
   "metadata": {},
   "outputs": [
    {
     "data": {
      "text/plain": [
       "array([ 0,  1, 21, 39, 12, 47, 13, 28, 22, 86, 26, 17,  6, 55, 48, 27, 51,\n",
       "       84, 45,  4, 34, 41, 37, 20,  8, 42,  5,  2, 40, 16, 54, 18, 29, 30,\n",
       "       83, 19, 36, 49, 53, 15, 33, 35, 32, 31, 38,  9, 81, 11, 24, 23, 56,\n",
       "       82, 85, 88, 25, 10, 46, 44, 50, 72], dtype=int64)"
      ]
     },
     "execution_count": 3,
     "metadata": {},
     "output_type": "execute_result"
    }
   ],
   "source": [
    "df.PWSTATE2.unique()"
   ]
  },
  {
   "cell_type": "code",
   "execution_count": 4,
   "metadata": {},
   "outputs": [
    {
     "name": "stdout",
     "output_type": "stream",
     "text": [
      "1803778 (55.46%) of the rows have no state\n"
     ]
    }
   ],
   "source": [
    "num_nostate = (df.PWSTATE2 == 0).values.sum()\n",
    "original_len = len(df)\n",
    "print(f\"{num_nostate} ({num_nostate/original_len:.2%}) of the rows have no state\")"
   ]
  },
  {
   "cell_type": "code",
   "execution_count": 5,
   "metadata": {},
   "outputs": [
    {
     "name": "stdout",
     "output_type": "stream",
     "text": [
      "Removed 1803778 rows with no state. 1448821 rows remain.\n"
     ]
    }
   ],
   "source": [
    "# Remove rows with no state\n",
    "df = df[df.PWSTATE2 != 0]\n",
    "assert(len(df) == original_len - num_nostate)\n",
    "print(f\"Removed {num_nostate} rows with no state. {len(df)} rows remain.\")"
   ]
  },
  {
   "cell_type": "code",
   "execution_count": 3,
   "metadata": {},
   "outputs": [],
   "source": [
    "with(open('ipums_fields/stateField.json')) as f:\n",
    "    state_mapping = json.load(f)"
   ]
  },
  {
   "cell_type": "code",
   "execution_count": null,
   "metadata": {},
   "outputs": [],
   "source": [
    "# Make sure each degree field is in the mapping\n",
    "stateKeys = sorted([int(k) for k in state_mapping.keys()])\n",
    "# Note that stateKeys doesn't include foreign countries\n",
    "assert(sorted([val for val in df.PWSTATE2.unique().tolist() if val <= stateKeys[-1]]) == stateKeys)"
   ]
  },
  {
   "cell_type": "code",
   "execution_count": null,
   "metadata": {},
   "outputs": [],
   "source": [
    "df[\"worksOutsideUS\"] = (df.PWSTATE2 > stateKeys[-1])\n",
    "cols_created = 1\n",
    "for (key, value) in state_mapping.items():\n",
    "    # Skip N/A column (may want to fill this with NaN later)\n",
    "    if value == 'N/A':\n",
    "        continue\n",
    "\n",
    "    stateName = value.replace(' ', '_')\n",
    "    df[f\"worksIn_{stateName}\"] = (df.PWSTATE2 == int(key))\n",
    "    cols_created += 1\n",
    "\n",
    "print(f\"Created {cols_created} columns\")"
   ]
  },
  {
   "cell_type": "code",
   "execution_count": null,
   "metadata": {},
   "outputs": [],
   "source": [
    "df.drop(columns=['PWSTATE2', 'PWCOUNTY', 'PWTYPE'], inplace=True)"
   ]
  },
  {
   "attachments": {},
   "cell_type": "markdown",
   "metadata": {},
   "source": [
    "Create degree fields"
   ]
  },
  {
   "cell_type": "code",
   "execution_count": null,
   "metadata": {},
   "outputs": [],
   "source": [
    "with(open('ipums_fields/degField.json')) as f:\n",
    "    deg_mapping = json.load(f)"
   ]
  },
  {
   "cell_type": "code",
   "execution_count": null,
   "metadata": {},
   "outputs": [],
   "source": [
    "# Make sure each degree field is in the mapping\n",
    "assert(sorted(df.DEGFIELD.unique().tolist()) == sorted([int(k) for k in deg_mapping.keys()]))"
   ]
  },
  {
   "cell_type": "code",
   "execution_count": null,
   "metadata": {},
   "outputs": [],
   "source": [
    "cols_created = 0\n",
    "for (key, value) in deg_mapping.items():\n",
    "    # Skip N/A column (may want to fill this with NaN later)\n",
    "    if value == 'N/A':\n",
    "        continue\n",
    "\n",
    "    degName = value.replace(' ', '_').replace(',', '')\n",
    "    df[f\"hasDegree_{degName}\"] = (df.DEGFIELD == int(key))\n",
    "    cols_created += 1\n",
    "\n",
    "print(f\"Created {cols_created} columns\")"
   ]
  },
  {
   "cell_type": "code",
   "execution_count": null,
   "metadata": {},
   "outputs": [],
   "source": [
    "df.drop(columns=['DEGFIELD', 'DEGFIELDD'], inplace=True)"
   ]
  },
  {
   "cell_type": "markdown",
   "metadata": {},
   "source": [
    "Create occupation fields"
   ]
  },
  {
   "cell_type": "code",
   "execution_count": null,
   "metadata": {},
   "outputs": [],
   "source": [
    "with(open('ipums_fields/occupation2010.json')) as f:\n",
    "    occ_mapping = json.load(f)"
   ]
  },
  {
   "cell_type": "code",
   "execution_count": null,
   "metadata": {},
   "outputs": [],
   "source": [
    "# Make sure each degree field is in the mapping\n",
    "assert(sorted(df.OCC2010.unique().tolist()) == sorted([int(k) for k in occ_mapping.keys()]))"
   ]
  },
  {
   "cell_type": "code",
   "execution_count": null,
   "metadata": {},
   "outputs": [],
   "source": [
    "cols_created = 0\n",
    "for (key, value) in occ_mapping.items():\n",
    "    # Skip N/A column (may want to fill this with NaN later)\n",
    "    if value == 'N/A':\n",
    "        continue\n",
    "\n",
    "    occName = value.replace(' ', '_').replace(',', '')\n",
    "    df[f\"occupation_{occName}\"] = (df.OCC2010 == int(key))\n",
    "    cols_created += 1\n",
    "\n",
    "print(f\"Created {cols_created} columns\")"
   ]
  },
  {
   "cell_type": "code",
   "execution_count": null,
   "metadata": {},
   "outputs": [],
   "source": [
    "df.drop(columns=['OCC2010'], inplace=True)"
   ]
  },
  {
   "cell_type": "code",
   "execution_count": null,
   "metadata": {},
   "outputs": [],
   "source": [
    "df.reset_index().to_csv('large_field_preprocessed_data.csv', index=False)"
   ]
  },
  {
   "cell_type": "code",
   "execution_count": null,
   "metadata": {},
   "outputs": [],
   "source": []
  }
 ],
 "metadata": {
  "kernelspec": {
   "display_name": "testing-torch",
   "language": "python",
   "name": "python3"
  },
  "language_info": {
   "codemirror_mode": {
    "name": "ipython",
    "version": 3
   },
   "file_extension": ".py",
   "mimetype": "text/x-python",
   "name": "python",
   "nbconvert_exporter": "python",
   "pygments_lexer": "ipython3",
   "version": "3.9.12"
  },
  "orig_nbformat": 4
 },
 "nbformat": 4,
 "nbformat_minor": 2
}
