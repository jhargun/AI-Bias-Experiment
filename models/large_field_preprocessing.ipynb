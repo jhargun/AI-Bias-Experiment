{
 "cells": [
  {
   "cell_type": "code",
   "execution_count": null,
   "metadata": {},
   "outputs": [],
   "source": [
    "import pandas as pd\n",
    "import numpy as np\n",
    "import json"
   ]
  },
  {
   "cell_type": "code",
   "execution_count": null,
   "metadata": {},
   "outputs": [],
   "source": [
    "# Read the data\n",
    "df = pd.read_csv('init_preprocessed_data_without_index.csv')\n",
    "len(df)"
   ]
  },
  {
   "cell_type": "code",
   "execution_count": null,
   "metadata": {},
   "outputs": [],
   "source": [
    "df.columns"
   ]
  },
  {
   "cell_type": "code",
   "execution_count": null,
   "metadata": {},
   "outputs": [],
   "source": [
    "df.head()"
   ]
  },
  {
   "attachments": {},
   "cell_type": "markdown",
   "metadata": {},
   "source": [
    "Create degree fields"
   ]
  },
  {
   "cell_type": "code",
   "execution_count": null,
   "metadata": {},
   "outputs": [],
   "source": [
    "with(open('ipums_fields/degField.json')) as f:\n",
    "    deg_mapping = json.load(f)"
   ]
  },
  {
   "cell_type": "code",
   "execution_count": null,
   "metadata": {},
   "outputs": [],
   "source": [
    "# Make sure each degree field is in the mapping\n",
    "assert(sorted(df.DEGFIELD.unique().tolist()) == sorted([int(k) for k in deg_mapping.keys()]))"
   ]
  },
  {
   "cell_type": "code",
   "execution_count": null,
   "metadata": {},
   "outputs": [],
   "source": [
    "cols_created = 0\n",
    "for (key, value) in deg_mapping.items():\n",
    "    # Skip N/A column (may want to fill this with NaN later)\n",
    "    if value == 'N/A':\n",
    "        continue\n",
    "\n",
    "    degName = value.replace(' ', '_').replace(',', '')\n",
    "    df[f\"hasDegree_{degName}\"] = (df.DEGFIELD == int(key))\n",
    "    cols_created += 1\n",
    "\n",
    "print(f\"Created {cols_created} columns\")"
   ]
  },
  {
   "cell_type": "code",
   "execution_count": null,
   "metadata": {},
   "outputs": [],
   "source": [
    "df.drop(columns=['DEGFIELD', 'DEGFIELDD'], inplace=True)"
   ]
  },
  {
   "cell_type": "markdown",
   "metadata": {},
   "source": [
    "Create occupation fields"
   ]
  },
  {
   "cell_type": "code",
   "execution_count": null,
   "metadata": {},
   "outputs": [],
   "source": [
    "with(open('ipums_fields/occupation2010.json')) as f:\n",
    "    occ_mapping = json.load(f)"
   ]
  },
  {
   "cell_type": "code",
   "execution_count": null,
   "metadata": {},
   "outputs": [],
   "source": [
    "# Make sure each degree field is in the mapping\n",
    "assert(sorted(df.OCC2010.unique().tolist()) == sorted([int(k) for k in occ_mapping.keys()]))"
   ]
  },
  {
   "cell_type": "code",
   "execution_count": null,
   "metadata": {},
   "outputs": [],
   "source": [
    "cols_created = 0\n",
    "for (key, value) in occ_mapping.items():\n",
    "    # Skip N/A column (may want to fill this with NaN later)\n",
    "    if value == 'N/A':\n",
    "        continue\n",
    "\n",
    "    occName = value.replace(' ', '_').replace(',', '')\n",
    "    df[f\"occupation_{occName}\"] = (df.OCC2010 == int(key))\n",
    "    cols_created += 1\n",
    "\n",
    "print(f\"Created {cols_created} columns\")"
   ]
  },
  {
   "cell_type": "code",
   "execution_count": null,
   "metadata": {},
   "outputs": [],
   "source": [
    "df.drop(columns=['OCC2010'], inplace=True)"
   ]
  },
  {
   "attachments": {},
   "cell_type": "markdown",
   "metadata": {},
   "source": [
    "Create state fields"
   ]
  },
  {
   "cell_type": "code",
   "execution_count": null,
   "metadata": {},
   "outputs": [],
   "source": [
    "with(open('ipums_fields/stateField.json')) as f:\n",
    "    state_mapping = json.load(f)"
   ]
  },
  {
   "cell_type": "code",
   "execution_count": null,
   "metadata": {},
   "outputs": [],
   "source": [
    "df.PWSTATE2.unique()"
   ]
  },
  {
   "cell_type": "code",
   "execution_count": null,
   "metadata": {},
   "outputs": [],
   "source": [
    "# Make sure each degree field is in the mapping\n",
    "stateKeys = sorted([int(k) for k in state_mapping.keys()])\n",
    "# Note that stateKeys doesn't include foreign countries\n",
    "assert(sorted([val for val in df.PWSTATE2.unique().tolist() if val <= stateKeys[-1]]) == stateKeys)"
   ]
  },
  {
   "cell_type": "code",
   "execution_count": null,
   "metadata": {},
   "outputs": [],
   "source": [
    "df[\"worksOutsideUS\"] = (df.PWSTATE2 > stateKeys[-1])\n",
    "cols_created = 1\n",
    "for (key, value) in state_mapping.items():\n",
    "    # Skip N/A column (may want to fill this with NaN later)\n",
    "    if value == 'N/A':\n",
    "        continue\n",
    "\n",
    "    stateName = value.replace(' ', '_')\n",
    "    df[f\"worksIn_{stateName}\"] = (df.PWSTATE2 == int(key))\n",
    "    cols_created += 1\n",
    "\n",
    "print(f\"Created {cols_created} columns\")"
   ]
  },
  {
   "cell_type": "code",
   "execution_count": null,
   "metadata": {},
   "outputs": [],
   "source": [
    "df.drop(columns=['PWSTATE2', 'PWCOUNTY', 'PWTYPE'], inplace=True)"
   ]
  },
  {
   "cell_type": "code",
   "execution_count": null,
   "metadata": {},
   "outputs": [],
   "source": [
    "df.reset_index().to_csv('large_field_preprocessed_data.csv', index=False)"
   ]
  },
  {
   "cell_type": "code",
   "execution_count": null,
   "metadata": {},
   "outputs": [],
   "source": []
  }
 ],
 "metadata": {
  "kernelspec": {
   "display_name": "testing-torch",
   "language": "python",
   "name": "python3"
  },
  "language_info": {
   "codemirror_mode": {
    "name": "ipython",
    "version": 3
   },
   "file_extension": ".py",
   "mimetype": "text/x-python",
   "name": "python",
   "nbconvert_exporter": "python",
   "pygments_lexer": "ipython3",
   "version": "3.9.12"
  },
  "orig_nbformat": 4
 },
 "nbformat": 4,
 "nbformat_minor": 2
}
