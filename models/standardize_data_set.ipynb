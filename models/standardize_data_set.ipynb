{
 "cells": [
  {
   "cell_type": "code",
   "execution_count": 6,
   "metadata": {},
   "outputs": [],
   "source": [
    "import torch\n",
    "import numpy as np\n",
    "from torch.utils.data import TensorDataset\n",
    "import pandas as pd\n",
    "import json"
   ]
  },
  {
   "cell_type": "code",
   "execution_count": 7,
   "metadata": {},
   "outputs": [],
   "source": [
    "test = pd.read_csv(\"dataset/test_preprocessed.csv\")\n",
    "train = pd.read_csv(\"dataset/train_preprocessed.csv\")"
   ]
  },
  {
   "cell_type": "code",
   "execution_count": 8,
   "metadata": {},
   "outputs": [],
   "source": [
    "dropColumns = [\n",
    "    \"SERIAL\",\n",
    "    \"PERNUM\",\n",
    "    \"HHWT\",\n",
    "    \"CLUSTER\",\n",
    "    \"STRATA\",\n",
    "    \"PERWT\",\n",
    "    \"RACNUM\",\n",
    "    \"YRMARR\",\n",
    "    \"YRNATUR\",\n",
    "    # \"WKSWORK1\",\n",
    "    # \"UHRSWORK\",\n",
    "    # \"TRANTIME\",\n",
    "    \"index\",\n",
    "]\n",
    "\n",
    "test = test.drop(columns=dropColumns)\n",
    "train = train.drop(columns=dropColumns)\n",
    "\n",
    "# finds = [\n",
    "# \t\"AGE\",\n",
    "# \t\"hasDegree\",\n",
    "# \t\"worksIn\",\n",
    "# \t\"occupation\",\n",
    "# \t\"isFemale\",\n",
    "# \t\"isAmericanIndian\",\n",
    "# \t\"isAsian\",\n",
    "# \t\"isBlack\",\n",
    "# \t\"isPacificIslander\",\n",
    "# \t\"isWhite\",\n",
    "# \t\"isOtherRace\",\n",
    "# \t\"isHispanic\",\n",
    "# ]\n",
    "\n",
    "\n",
    "# for column in test.columns:\n",
    "# \tfound = False\n",
    "# \tfor find in finds:\n",
    "# \t\tif(column.find(find) != -1):\n",
    "# \t\t\tfound = True\n",
    "# \t\t\tbreak\n",
    "# \tif(not found):\n",
    "# \t\ttest = test.drop(columns=column)\n",
    "# \t\ttrain = train.drop(columns=column)\n",
    "\n",
    "for column in test.columns:\n",
    "\ttest[column].fillna(False, inplace=True)\n",
    " \n",
    "for column in train.columns:\n",
    "\ttrain[column].fillna(False, inplace=True)\n"
   ]
  },
  {
   "cell_type": "code",
   "execution_count": 9,
   "metadata": {},
   "outputs": [],
   "source": [
    "for column in test.columns:\n",
    "\ttest[column] = test[column].astype(np.float32)\n",
    "\n",
    "for column in train.columns:\n",
    "\ttrain[column] = train[column].astype(np.float32)\n",
    "\n",
    "\n",
    "with open(\"dataset/columns.json\", \"w\") as f:\n",
    "\tjson.dump((test.drop(columns=['INCWAGE_CPIU_2010'])).columns.tolist(), f)\n",
    " \n"
   ]
  },
  {
   "cell_type": "code",
   "execution_count": 11,
   "metadata": {},
   "outputs": [
    {
     "ename": "AttributeError",
     "evalue": "'NoneType' object has no attribute 'drop'",
     "output_type": "error",
     "traceback": [
      "\u001b[1;31m---------------------------------------------------------------------------\u001b[0m",
      "\u001b[1;31mAttributeError\u001b[0m                            Traceback (most recent call last)",
      "\u001b[1;32m~\\AppData\\Local\\Temp\\ipykernel_10876\\700904410.py\u001b[0m in \u001b[0;36m<module>\u001b[1;34m\u001b[0m\n\u001b[0;32m      3\u001b[0m \u001b[0mfinalShift\u001b[0m \u001b[1;33m=\u001b[0m \u001b[1;36m10\u001b[0m\u001b[1;33m\u001b[0m\u001b[1;33m\u001b[0m\u001b[0m\n\u001b[0;32m      4\u001b[0m \u001b[1;33m\u001b[0m\u001b[0m\n\u001b[1;32m----> 5\u001b[1;33m \u001b[0mxTrain\u001b[0m \u001b[1;33m=\u001b[0m \u001b[0mtrain\u001b[0m\u001b[1;33m.\u001b[0m\u001b[0mdrop\u001b[0m\u001b[1;33m(\u001b[0m\u001b[0mcolumns\u001b[0m\u001b[1;33m=\u001b[0m\u001b[1;33m[\u001b[0m\u001b[1;34m'INCWAGE_CPIU_2010'\u001b[0m\u001b[1;33m]\u001b[0m\u001b[1;33m)\u001b[0m\u001b[1;33m\u001b[0m\u001b[1;33m\u001b[0m\u001b[0m\n\u001b[0m\u001b[0;32m      6\u001b[0m \u001b[0myTrain\u001b[0m \u001b[1;33m=\u001b[0m \u001b[0mtrain\u001b[0m\u001b[1;33m[\u001b[0m\u001b[1;34m'INCWAGE_CPIU_2010'\u001b[0m\u001b[1;33m]\u001b[0m\u001b[1;33m\u001b[0m\u001b[1;33m\u001b[0m\u001b[0m\n\u001b[0;32m      7\u001b[0m \u001b[0mxTest\u001b[0m \u001b[1;33m=\u001b[0m \u001b[0mtest\u001b[0m\u001b[1;33m.\u001b[0m\u001b[0mdrop\u001b[0m\u001b[1;33m(\u001b[0m\u001b[0mcolumns\u001b[0m\u001b[1;33m=\u001b[0m\u001b[1;33m[\u001b[0m\u001b[1;34m'INCWAGE_CPIU_2010'\u001b[0m\u001b[1;33m]\u001b[0m\u001b[1;33m)\u001b[0m\u001b[1;33m\u001b[0m\u001b[1;33m\u001b[0m\u001b[0m\n",
      "\u001b[1;31mAttributeError\u001b[0m: 'NoneType' object has no attribute 'drop'"
     ]
    }
   ],
   "source": [
    "salaryDivisor = 5000\n",
    "salaryCutoff = 100000\n",
    "finalShift = 10\n",
    "\n",
    "xTrain = train.drop(columns=['INCWAGE_CPIU_2010'])\n",
    "yTrain = train['INCWAGE_CPIU_2010']\n",
    "xTest = test.drop(columns=['INCWAGE_CPIU_2010'])\n",
    "yTest = test['INCWAGE_CPIU_2010']\n",
    "\n",
    "print(yTrain.shape)\n"
   ]
  },
  {
   "cell_type": "code",
   "execution_count": null,
   "metadata": {},
   "outputs": [],
   "source": [
    "\n",
    "\n",
    "xTrainTensor = torch.tensor(train.drop(columns=['INCWAGE_CPIU_2010']).values, dtype=torch.float32)\n",
    "yTrainTensor = torch.tensor((train['INCWAGE_CPIU_2010']).values, dtype=torch.float32)\n",
    "\n",
    "xTestTensor = torch.tensor(test.drop(columns=['INCWAGE_CPIU_2010']).values, dtype=torch.float32)\n",
    "yTestTensor = torch.tensor((test['INCWAGE_CPIU_2010']).values, dtype=torch.float32)"
   ]
  },
  {
   "cell_type": "code",
   "execution_count": null,
   "metadata": {},
   "outputs": [],
   "source": [
    "print(xTrainTensor.shape)\n",
    "print(yTrainTensor.shape)\n",
    "print(xTestTensor.shape)\n",
    "print(yTestTensor.shape)\n",
    "\n",
    "torch.save(xTrainTensor, 'dataset/trainSetX.pt')\n",
    "torch.save(yTrainTensor, 'dataset/trainSetY.pt')\n",
    "\n",
    "torch.save(xTestTensor, 'dataset/testSetX.pt')\n",
    "torch.save(yTestTensor, 'dataset/testSetY.pt')"
   ]
  }
 ],
 "metadata": {
  "kernelspec": {
   "display_name": "venv",
   "language": "python",
   "name": "python3"
  },
  "language_info": {
   "codemirror_mode": {
    "name": "ipython",
    "version": 3
   },
   "file_extension": ".py",
   "mimetype": "text/x-python",
   "name": "python",
   "nbconvert_exporter": "python",
   "pygments_lexer": "ipython3",
   "version": "3.7.8"
  },
  "orig_nbformat": 4,
  "vscode": {
   "interpreter": {
    "hash": "643871d4a624ddba02cfbd82649e219b91f86d6635dee751df381566eeda5c79"
   }
  }
 },
 "nbformat": 4,
 "nbformat_minor": 2
}
