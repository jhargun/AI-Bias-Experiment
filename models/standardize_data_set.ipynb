{
 "cells": [
  {
   "cell_type": "code",
   "execution_count": 7,
   "metadata": {},
   "outputs": [],
   "source": [
    "import torch\n",
    "import numpy as np\n",
    "from torch.utils.data import TensorDataset\n",
    "import pandas as pd\n",
    "import json"
   ]
  },
  {
   "cell_type": "code",
   "execution_count": 8,
   "metadata": {},
   "outputs": [],
   "source": [
    "test = pd.read_csv(\"dataset/test_preprocessed.csv\")\n",
    "train = pd.read_csv(\"dataset/train_preprocessed.csv\")"
   ]
  },
  {
   "cell_type": "code",
   "execution_count": 9,
   "metadata": {},
   "outputs": [],
   "source": [
    "# dropColumns = [\n",
    "#     \"SERIAL\",\n",
    "#     \"PERNUM\",\n",
    "#     \"HHWT\",\n",
    "#     \"CLUSTER\",\n",
    "#     \"STRATA\",\n",
    "#     \"PERWT\",\n",
    "#     \"RACNUM\",\n",
    "#     \"YRMARR\",\n",
    "#     \"YRNATUR\",\n",
    "#     \"WKSWORK1\",\n",
    "#     \"UHRSWORK\",\n",
    "#     \"TRANTIME\",\n",
    "#     \"index\",\n",
    "#     \"carpools\",\n",
    "#     \"has\"\n",
    "    \n",
    "# ]\n",
    "\n",
    "# test = test.drop(columns=dropColumns)\n",
    "# train = train.drop(columns=dropColumns)\n",
    "\n",
    "\n",
    "for column in test.columns:\n",
    "    if(column.find(\"AGE\") != -1):\n",
    "        continue\n",
    "    if(column.find(\"hasDegree\") != -1):\n",
    "        continue\n",
    "    if(column.find(\"worksIn\") != -1):\n",
    "        continue\n",
    "    if(column.find(\"occupation\") != -1):\n",
    "        continue\n",
    "\n",
    "    test = test.drop(columns=column)\n",
    "    \n",
    "for column in train.columns:\n",
    "    if(column.find(\"AGE\") != -1):\n",
    "        continue\n",
    "    if(column.find(\"hasDegree\") != -1):\n",
    "        continue\n",
    "    if(column.find(\"worksIn\") != -1):\n",
    "        continue\n",
    "    if(column.find(\"occupation\") != -1):\n",
    "        continue\n",
    "    \n",
    "    train = train.drop(columns=column)\n",
    "\n",
    "for column in test.columns:\n",
    "\ttest[column].fillna(False, inplace=True)\n",
    " \n",
    "for column in train.columns:\n",
    "\ttrain[column].fillna(False, inplace=True)\n"
   ]
  },
  {
   "cell_type": "code",
   "execution_count": 10,
   "metadata": {},
   "outputs": [],
   "source": [
    "for column in test.columns:\n",
    "\ttest[column] = test[column].astype(np.float32)\n",
    "\n",
    "for column in train.columns:\n",
    "\ttrain[column] = train[column].astype(np.float32)\n",
    "\n",
    "with open(\"dataset/columns.json\", \"w\") as f:\n",
    "\tjson.dump(test.columns.tolist(), f)\n",
    " \n"
   ]
  },
  {
   "cell_type": "code",
   "execution_count": 11,
   "metadata": {},
   "outputs": [],
   "source": [
    "salaryShift = 50000\n",
    "\n",
    "xTrainTensor = torch.tensor(train.drop(columns=['INCWAGE_CPIU_2010']).values, dtype=torch.float32)\n",
    "yTrainTensor = torch.tensor((train['INCWAGE_CPIU_2010']-salaryShift).values, dtype=torch.float32)\n",
    "\n",
    "xTestTensor = torch.tensor(test.drop(columns=['INCWAGE_CPIU_2010']).values, dtype=torch.float32)\n",
    "yTestTensor = torch.tensor((test['INCWAGE_CPIU_2010']-salaryShift).values, dtype=torch.float32)"
   ]
  },
  {
   "cell_type": "code",
   "execution_count": 12,
   "metadata": {},
   "outputs": [
    {
     "name": "stdout",
     "output_type": "stream",
     "text": [
      "torch.Size([1231497, 517])\n",
      "torch.Size([1231497])\n",
      "torch.Size([217324, 517])\n",
      "torch.Size([217324])\n"
     ]
    }
   ],
   "source": [
    "print(xTrainTensor.shape)\n",
    "print(yTrainTensor.shape)\n",
    "print(xTestTensor.shape)\n",
    "print(yTestTensor.shape)\n",
    "\n",
    "torch.save(xTrainTensor, 'dataset/trainSetX.pt')\n",
    "torch.save(yTrainTensor, 'dataset/trainSetY.pt')\n",
    "\n",
    "torch.save(xTestTensor, 'dataset/testSetX.pt')\n",
    "torch.save(yTestTensor, 'dataset/testSetY.pt')"
   ]
  }
 ],
 "metadata": {
  "kernelspec": {
   "display_name": "venv",
   "language": "python",
   "name": "python3"
  },
  "language_info": {
   "codemirror_mode": {
    "name": "ipython",
    "version": 3
   },
   "file_extension": ".py",
   "mimetype": "text/x-python",
   "name": "python",
   "nbconvert_exporter": "python",
   "pygments_lexer": "ipython3",
   "version": "3.7.8"
  },
  "orig_nbformat": 4
 },
 "nbformat": 4,
 "nbformat_minor": 2
}
