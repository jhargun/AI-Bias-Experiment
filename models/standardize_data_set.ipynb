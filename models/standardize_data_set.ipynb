{
 "cells": [
  {
   "cell_type": "code",
   "execution_count": 6,
   "metadata": {},
   "outputs": [],
   "source": [
    "import torch\n",
    "import numpy as np\n",
    "from torch.utils.data import TensorDataset\n",
    "import pandas as pd\n",
    "import json"
   ]
  },
  {
   "cell_type": "code",
   "execution_count": 7,
   "metadata": {},
   "outputs": [],
   "source": [
    "test = pd.read_csv(\"dataset/test_preprocessed.csv\")\n",
    "train = pd.read_csv(\"dataset/train_preprocessed.csv\")"
   ]
  },
  {
   "cell_type": "code",
   "execution_count": 8,
   "metadata": {},
   "outputs": [],
   "source": [
    "# dropColumns = [\n",
    "#     # \"isFemale\",\n",
    "# \t# \"isAmericanIndian\",\n",
    "# \t# \"isAsian\",\n",
    "# \t# \"isBlack\",\n",
    "# \t# \"isPacificIslander\",\n",
    "# \t# \"isWhite\",\n",
    "# \t# \"isOtherRace\",\n",
    "# \t# \"isHispanic\",\n",
    "#  \t# \"sameSexMarriage\",\n",
    "# \t# \"mixedRaceMarriage\",\n",
    "# \t# \"isMarried\",\n",
    "# \t# \"wasMarried\",\n",
    "# \t# \"neverMarried\",\n",
    "# \t# \"bornInUS\",\n",
    "#     \"index\",\n",
    "#     \"SERIAL\",\n",
    "#     \"PERNUM\",\n",
    "#     \"HHWT\",\n",
    "#     \"CLUSTER\",\n",
    "#     \"STRATA\",\n",
    "#     \"PERWT\",\n",
    "#     \"RACNUM\",\n",
    "#     \"YRMARR\",\n",
    "# \t\"YRNATUR\",\n",
    "# ]\n",
    "\n",
    "# test = test.drop(columns=dropColumns)\n",
    "# train = train.drop(columns=dropColumns)\n",
    "\n",
    "finds = [\n",
    "\t# \"AGE\",\n",
    "\t# \"hasDegree\",\n",
    "\t# \"worksIn\",\n",
    "\t# \"occupation\",\n",
    "\t\"isFemale\",\n",
    "\t\"isAmericanIndian\",\n",
    "\t\"isAsian\",\n",
    "\t\"isBlack\",\n",
    "\t\"isPacificIslander\",\n",
    "\t\"isWhite\",\n",
    "\t\"isOtherRace\",\n",
    "\t\"isHispanic\",\n",
    " \t\"sameSexMarriage\",\n",
    "\t\"mixedRaceMarriage\",\n",
    "\t\"isMarried\",\n",
    "\t\"wasMarried\",\n",
    "\t\"neverMarried\",\n",
    "\t\"bornInUS\",\n",
    "\t\"INCWAGE_CPIU_2010\"\n",
    "]\n",
    "\n",
    "\n",
    "for column in test.columns:\n",
    "\tfound = False\n",
    "\tfor find in finds:\n",
    "\t\tif(column.find(find) != -1):\n",
    "\t\t\tfound = True\n",
    "\t\t\tbreak\n",
    "\tif(not found):\n",
    "\t\ttest = test.drop(columns=column)\n",
    "\t\ttrain = train.drop(columns=column)\n",
    "\n",
    "\n",
    "for column in test.columns:\n",
    "\ttest[column].fillna(False, inplace=True)\n",
    " \n",
    "for column in train.columns:\n",
    "\ttrain[column].fillna(False, inplace=True)\n"
   ]
  },
  {
   "cell_type": "code",
   "execution_count": 11,
   "metadata": {},
   "outputs": [
    {
     "name": "stdout",
     "output_type": "stream",
     "text": [
      "Index(['INCWAGE_CPIU_2010', 'isFemale', 'isAmericanIndian', 'isAsian',\n",
      "       'isBlack', 'isPacificIslander', 'isWhite', 'isOtherRace', 'isHispanic',\n",
      "       'sameSexMarriage', 'mixedRaceMarriage', 'bornInUS', 'isMarried',\n",
      "       'wasMarried', 'neverMarried'],\n",
      "      dtype='object')\n",
      "Index(['INCWAGE_CPIU_2010', 'isFemale', 'isAmericanIndian', 'isAsian',\n",
      "       'isBlack', 'isPacificIslander', 'isWhite', 'isOtherRace', 'isHispanic',\n",
      "       'sameSexMarriage', 'mixedRaceMarriage', 'bornInUS', 'isMarried',\n",
      "       'wasMarried', 'neverMarried'],\n",
      "      dtype='object')\n",
      "(1231497, 15)\n",
      "(217324, 15)\n"
     ]
    }
   ],
   "source": [
    "print(test.columns)\n",
    "print(train.columns)\n",
    "print(train.shape)\n",
    "print(test.shape)"
   ]
  },
  {
   "cell_type": "code",
   "execution_count": null,
   "metadata": {},
   "outputs": [],
   "source": [
    "#Remove all rows with INCWAGE_CPIU_2010 as 0\n",
    "# train = train[train.INCWAGE_CPIU_2010 != 0]\n",
    "# test = test[test.INCWAGE_CPIU_2010 != 0]"
   ]
  },
  {
   "cell_type": "code",
   "execution_count": null,
   "metadata": {},
   "outputs": [],
   "source": [
    "# train['HOURS'] = train['WKSWORK1'] * train['UHRSWORK']\n",
    "# train = train.drop(columns=['WKSWORK1', 'UHRSWORK'])\n",
    "\n",
    "# test['HOURS'] = test['WKSWORK1'] * test['UHRSWORK']\n",
    "# test = test.drop(columns=['WKSWORK1', 'UHRSWORK'])"
   ]
  },
  {
   "cell_type": "code",
   "execution_count": null,
   "metadata": {},
   "outputs": [],
   "source": [
    "for column in test.columns:\n",
    "\ttest[column] = test[column].astype(np.float32)\n",
    "\n",
    "for column in train.columns:\n",
    "\ttrain[column] = train[column].astype(np.float32)\n",
    "\n",
    "\n",
    "with open(\"dataset/columns.json\", \"w\") as f:\n",
    "\tjson.dump((test.drop(columns=['INCWAGE_CPIU_2010'])).columns.tolist(), f)"
   ]
  },
  {
   "cell_type": "code",
   "execution_count": null,
   "metadata": {},
   "outputs": [],
   "source": [
    "salaryDivisor = 1\n",
    "salaryCutoff = 100000\n",
    "finalShift = 0"
   ]
  },
  {
   "cell_type": "code",
   "execution_count": null,
   "metadata": {},
   "outputs": [],
   "source": [
    "xTrain = train.drop(columns=['INCWAGE_CPIU_2010'])\n",
    "yTrain = train['INCWAGE_CPIU_2010']\n",
    "xTest = test.drop(columns=['INCWAGE_CPIU_2010'])\n",
    "yTest = test['INCWAGE_CPIU_2010']"
   ]
  },
  {
   "cell_type": "code",
   "execution_count": null,
   "metadata": {},
   "outputs": [],
   "source": [
    "yTrain = yTrain.clip(upper=salaryCutoff)\n",
    "yTest = yTest.clip(upper=salaryCutoff)"
   ]
  },
  {
   "cell_type": "code",
   "execution_count": null,
   "metadata": {},
   "outputs": [],
   "source": [
    "yTrain = yTrain / salaryDivisor\n",
    "yTest = yTest / salaryDivisor"
   ]
  },
  {
   "cell_type": "code",
   "execution_count": null,
   "metadata": {},
   "outputs": [],
   "source": [
    "yTrain = yTrain - finalShift\n",
    "yTest = yTest - finalShift"
   ]
  },
  {
   "cell_type": "code",
   "execution_count": null,
   "metadata": {},
   "outputs": [],
   "source": [
    "AGE_mean = xTrain['AGE'].mean()\n",
    "WKSWORK1_mean = xTrain['WKSWORK1'].mean()\n",
    "UHRSWORK_mean = xTrain['UHRSWORK'].mean()\n",
    "TRANTIME_mean = xTrain['TRANTIME'].mean()\n",
    "# HOURS_mean = xTrain['HOURS'].mean()\n",
    "\n",
    "xTrain['AGE'] = xTrain['AGE'] - AGE_mean\n",
    "xTest['AGE'] = xTest['AGE'] - AGE_mean\n",
    "\n",
    "xTrain['WKSWORK1'] = xTrain['WKSWORK1'] - WKSWORK1_mean\n",
    "xTest['WKSWORK1'] = xTest['WKSWORK1'] - WKSWORK1_mean\n",
    "\n",
    "xTrain['UHRSWORK'] = xTrain['UHRSWORK'] - UHRSWORK_mean\n",
    "xTest['UHRSWORK'] = xTest['UHRSWORK'] - UHRSWORK_mean\n",
    "\n",
    "xTrain['TRANTIME'] = xTrain['TRANTIME'] - TRANTIME_mean\n",
    "xTest['TRANTIME'] = xTest['TRANTIME'] - TRANTIME_mean\n",
    "\n",
    "# xTrain['HOURS'] = xTrain['HOURS'] - HOURS_mean\n",
    "# xTest['HOURS'] = xTest['HOURS'] - HOURS_mean\n"
   ]
  },
  {
   "cell_type": "code",
   "execution_count": null,
   "metadata": {},
   "outputs": [],
   "source": [
    "AGE_std = xTrain['AGE'].std()\n",
    "WKSWORK1_std = xTrain['WKSWORK1'].std()\n",
    "UHRSWORK_std = xTrain['UHRSWORK'].std()\n",
    "TRANTIME_std = xTrain['TRANTIME'].std()\n",
    "# HOURS_std = xTrain['HOURS'].std()\n",
    "\n",
    "\n",
    "xTrain['AGE'] = xTrain['AGE'] / AGE_std\n",
    "xTest['AGE'] = xTest['AGE'] / AGE_std\n",
    "\n",
    "xTrain['WKSWORK1'] = xTrain['WKSWORK1'] / WKSWORK1_std\n",
    "xTest['WKSWORK1'] = xTest['WKSWORK1'] / WKSWORK1_std\n",
    "\n",
    "xTrain['UHRSWORK'] = xTrain['UHRSWORK'] / UHRSWORK_std\n",
    "xTest['UHRSWORK'] = xTest['UHRSWORK'] / UHRSWORK_std\n",
    "\n",
    "xTrain['TRANTIME'] = xTrain['TRANTIME'] / TRANTIME_std\n",
    "xTest['TRANTIME'] = xTest['TRANTIME'] / TRANTIME_std\n",
    "\n",
    "# xTrain['HOURS'] = xTrain['HOURS'] / HOURS_std\n",
    "# xTest['HOURS'] = xTest['HOURS'] / HOURS_std\n"
   ]
  },
  {
   "cell_type": "code",
   "execution_count": null,
   "metadata": {},
   "outputs": [],
   "source": [
    "# xTrain['AGE'] = xTrain['AGE'] / 100\n",
    "# xTest['AGE'] = xTest['AGE'] / 100\n",
    "\n",
    "# xTrain['WKSWORK1'] = xTrain['WKSWORK1'] / 52\n",
    "# xTest['WKSWORK1'] = xTest['WKSWORK1'] / 52\n",
    "\n",
    "# xTrain['UHRSWORK'] = xTrain['UHRSWORK'] / 168\n",
    "# xTest['UHRSWORK'] = xTest['UHRSWORK'] / 168\n",
    "\n",
    "# xTrain['TRANTIME'] = xTrain['TRANTIME'] / 163\n",
    "# xTest['TRANTIME'] = xTest['TRANTIME'] / 163"
   ]
  },
  {
   "cell_type": "code",
   "execution_count": null,
   "metadata": {},
   "outputs": [],
   "source": [
    "print(yTrain)\n",
    "print(yTest)"
   ]
  },
  {
   "cell_type": "code",
   "execution_count": null,
   "metadata": {},
   "outputs": [],
   "source": [
    "xTrainTensor = torch.tensor(xTrain.values, dtype=torch.float32)\n",
    "yTrainTensor = torch.tensor(yTrain.values, dtype=torch.float32)\n",
    "\n",
    "xTestTensor = torch.tensor(xTest.values, dtype=torch.float32)\n",
    "yTestTensor = torch.tensor(yTest.values, dtype=torch.float32)"
   ]
  },
  {
   "cell_type": "code",
   "execution_count": null,
   "metadata": {},
   "outputs": [],
   "source": [
    "print(xTrainTensor.shape)\n",
    "print(yTrainTensor.shape)\n",
    "print(xTestTensor.shape)\n",
    "print(yTestTensor.shape)\n",
    "\n",
    "torch.save(xTrainTensor, 'dataset/trainSetXNotProtected.pt')\n",
    "torch.save(yTrainTensor, 'dataset/trainSetYNotProtected.pt')\n",
    "\n",
    "torch.save(xTestTensor, 'dataset/testSetXNotProtected.pt')\n",
    "torch.save(yTestTensor, 'dataset/testSetYNotProtected.pt')"
   ]
  },
  {
   "cell_type": "code",
   "execution_count": null,
   "metadata": {},
   "outputs": [],
   "source": [
    "ax1 = yTrain.plot.hist(bins=10, alpha=0.5)"
   ]
  }
 ],
 "metadata": {
  "kernelspec": {
   "display_name": "venv",
   "language": "python",
   "name": "python3"
  },
  "language_info": {
   "codemirror_mode": {
    "name": "ipython",
    "version": 3
   },
   "file_extension": ".py",
   "mimetype": "text/x-python",
   "name": "python",
   "nbconvert_exporter": "python",
   "pygments_lexer": "ipython3",
   "version": "3.7.8"
  },
  "orig_nbformat": 4,
  "vscode": {
   "interpreter": {
    "hash": "643871d4a624ddba02cfbd82649e219b91f86d6635dee751df381566eeda5c79"
   }
  }
 },
 "nbformat": 4,
 "nbformat_minor": 2
}
