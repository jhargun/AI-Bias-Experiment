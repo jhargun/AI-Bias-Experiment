{
 "cells": [
  {
   "cell_type": "code",
   "execution_count": 1,
   "metadata": {},
   "outputs": [],
   "source": [
    "import torch\n",
    "import numpy as np\n",
    "from torch.utils.data import TensorDataset\n",
    "import pandas as pd"
   ]
  },
  {
   "cell_type": "code",
   "execution_count": 2,
   "metadata": {},
   "outputs": [],
   "source": [
    "data = pd.read_csv('large_field_preprocessed_data.csv')"
   ]
  },
  {
   "cell_type": "code",
   "execution_count": 3,
   "metadata": {},
   "outputs": [],
   "source": [
    "dropColumns = [\n",
    "    \"SERIAL\",\n",
    "    \"PERNUM\",\n",
    "    \"HHWT\",\n",
    "    \"CLUSTER\",\n",
    "    \"STRATA\",\n",
    "    \"PERWT\",\n",
    "    \"YRMARR\",\n",
    "    \"YRNATUR\",\n",
    "    \"RACNUM\",\n",
    "    \"index\",\n",
    "]\n",
    "\n",
    "data = data.drop(columns=dropColumns)\n",
    "\n",
    "for column in data.columns:\n",
    "\tdata[column].fillna(False, inplace=True)\n",
    " \n",
    "# data = data.drop(data[(data['INCWAGE_CPIU_2010'] == 0)].index)"
   ]
  },
  {
   "cell_type": "code",
   "execution_count": 4,
   "metadata": {},
   "outputs": [],
   "source": [
    "data['INCWAGE_CPIU_2010'] = data['INCWAGE_CPIU_2010'].astype(np.float32)\n",
    "\n",
    "for column in data.columns:\n",
    "\tif column == \"INCWAGE_CPIU_2010\":\n",
    "\t\tcontinue\n",
    "\tdata[column] = data[column].astype(np.float32)"
   ]
  },
  {
   "cell_type": "code",
   "execution_count": 5,
   "metadata": {},
   "outputs": [],
   "source": [
    "xTensor = torch.tensor(data.drop(columns=['INCWAGE_CPIU_2010']).values, dtype=torch.float32)\n",
    "yTensor = torch.tensor(data['INCWAGE_CPIU_2010'].values, dtype=torch.float32)"
   ]
  },
  {
   "cell_type": "code",
   "execution_count": 12,
   "metadata": {},
   "outputs": [],
   "source": [
    "dataset = TensorDataset(xTensor, yTensor)\n",
    "trainSize = int(0.9 * len(dataset))\n",
    "testSize = len(dataset) - trainSize\n",
    "trainSet, testSet = torch.utils.data.random_split(dataset, [trainSize, testSize])\n",
    "\n",
    "\n",
    "torch.save(trainSet, 'dataset/trainSet.pt')\n",
    "torch.save(testSet, 'dataset/testSet.pt')"
   ]
  }
 ],
 "metadata": {
  "kernelspec": {
   "display_name": "venv",
   "language": "python",
   "name": "python3"
  },
  "language_info": {
   "codemirror_mode": {
    "name": "ipython",
    "version": 3
   },
   "file_extension": ".py",
   "mimetype": "text/x-python",
   "name": "python",
   "nbconvert_exporter": "python",
   "pygments_lexer": "ipython3",
   "version": "3.7.8"
  },
  "orig_nbformat": 4
 },
 "nbformat": 4,
 "nbformat_minor": 2
}
