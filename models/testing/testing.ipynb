{
 "cells": [
  {
   "cell_type": "code",
   "execution_count": null,
   "metadata": {},
   "outputs": [],
   "source": [
    "import torch\n",
    "import torchvision\n",
    "from torchvision import transforms, datasets\n",
    "import torch.nn as nn\n",
    "import torch.nn.functional as F\n",
    "import torch.optim as optim\n",
    "import numpy as np\n",
    "from torch.utils.data import TensorDataset, DataLoader\n",
    "import pandas as pd"
   ]
  },
  {
   "attachments": {},
   "cell_type": "markdown",
   "metadata": {},
   "source": [
    "Model Definition"
   ]
  },
  {
   "cell_type": "code",
   "execution_count": null,
   "metadata": {},
   "outputs": [],
   "source": [
    "class Net(nn.Module):\n",
    "    def __init__(self):\n",
    "        super().__init__()\n",
    "        self.input = nn.Linear(573, 2048)\n",
    "        self.hidden1 = nn.Linear(2048, 1024)\n",
    "        self.hidden2 = nn.Linear(1024, 512)\n",
    "        self.hidden3 = nn.Linear(512, 256)\n",
    "        self.hidden4 = nn.Linear(256, 128)\n",
    "        self.hidden5 = nn.Linear(128, 64)\n",
    "        self.hidden6 = nn.Linear(64, 32)\n",
    "        self.output = nn.Linear(32, 1)\n",
    "        \n",
    "    def forward(self, x):\n",
    "        x = F.relu(self.input(x))\n",
    "        x = F.relu(self.hidden1(x))\n",
    "        x = F.relu(self.hidden2(x))\n",
    "        x = F.relu(self.hidden3(x))\n",
    "        x = F.relu(self.hidden4(x))\n",
    "        x = F.relu(self.hidden5(x))\n",
    "        x = F.relu(self.hidden6(x))\n",
    "        x = self.output(x)\n",
    "        return x"
   ]
  },
  {
   "cell_type": "code",
   "execution_count": null,
   "metadata": {},
   "outputs": [],
   "source": [
    "useCUDA = True\n",
    "batchSize = 1"
   ]
  },
  {
   "cell_type": "code",
   "execution_count": null,
   "metadata": {},
   "outputs": [],
   "source": [
    "device = torch.device('cuda:0' if torch.cuda.is_available() else 'cpu')\n",
    "if not useCUDA:\n",
    "\tdevice = torch.device('cpu')"
   ]
  },
  {
   "cell_type": "code",
   "execution_count": null,
   "metadata": {},
   "outputs": [],
   "source": [
    "modelPath  = \"../trained_models/1680241798\"\n",
    "\n",
    "net = Net()\n",
    "net.load_state_dict(torch.load(modelPath))\n",
    "net = net.to(device)"
   ]
  },
  {
   "cell_type": "code",
   "execution_count": null,
   "metadata": {},
   "outputs": [],
   "source": [
    "net.eval()\n",
    "\n",
    "# Test the network\n",
    "\n",
    "test_data = torch.load('../dataset/testSet.pt')\n",
    "\n",
    "criterion = nn.MSELoss()\n",
    "\n",
    "testLoader = DataLoader(test_data, batch_size=batchSize, shuffle=True)\n",
    "\n",
    "\n",
    "runningLoss = 0\n",
    "for data in testLoader:\n",
    "\tX, y = data\n",
    "\ty = y.unsqueeze(1)\n",
    "\tX, y = X.to(device), y.to(device)\n",
    "\toutput = net(X)\n",
    "\tloss = criterion(output, y)\n",
    "\trunningLoss += loss.item()\n",
    "\n",
    "print(\"Test Loss: \", runningLoss/(len(testLoader)*batchSize))\n"
   ]
  }
 ],
 "metadata": {
  "kernelspec": {
   "display_name": "venv",
   "language": "python",
   "name": "python3"
  },
  "language_info": {
   "codemirror_mode": {
    "name": "ipython",
    "version": 3
   },
   "file_extension": ".py",
   "mimetype": "text/x-python",
   "name": "python",
   "nbconvert_exporter": "python",
   "pygments_lexer": "ipython3",
   "version": "3.7.8"
  },
  "orig_nbformat": 4
 },
 "nbformat": 4,
 "nbformat_minor": 2
}
