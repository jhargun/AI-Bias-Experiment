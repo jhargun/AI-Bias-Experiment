{
 "cells": [
  {
   "cell_type": "code",
   "execution_count": null,
   "metadata": {},
   "outputs": [],
   "source": [
    "from sklearn.neural_network import MLPRegressor\n",
    "import torch\n",
    "import numpy as np"
   ]
  },
  {
   "cell_type": "code",
   "execution_count": null,
   "metadata": {},
   "outputs": [],
   "source": [
    "trainSetX = torch.load(\"../dataset/trainSetX.pt\")\n",
    "trainSetY = torch.load(\"../dataset/trainSetY.pt\")\n",
    "# trainSetX = trainSetX.to(device)\n",
    "# trainSetY = trainSetY.to(device)\n",
    "print(trainSetX.shape)\n",
    "print(trainSetY.shape)"
   ]
  },
  {
   "cell_type": "code",
   "execution_count": null,
   "metadata": {},
   "outputs": [],
   "source": [
    "testSetX = torch.load(\"../dataset/testSetX.pt\")\n",
    "testSetY = torch.load(\"../dataset/testSetY.pt\")\n",
    "# testSetX = testSetX.to(device)\n",
    "# testSetY = testSetY.to(device)\n",
    "print(testSetX.shape)\n",
    "print(testSetY.shape)"
   ]
  },
  {
   "cell_type": "code",
   "execution_count": null,
   "metadata": {},
   "outputs": [],
   "source": [
    "trainSetX = trainSetX.numpy()\n",
    "trainSetY = trainSetY.numpy()\n",
    "\n",
    "testSetX = testSetX.numpy()\n",
    "testSetY = testSetY.numpy()"
   ]
  },
  {
   "cell_type": "code",
   "execution_count": null,
   "metadata": {},
   "outputs": [],
   "source": [
    "print(trainSetX.shape)\n",
    "print(trainSetY.shape)"
   ]
  },
  {
   "cell_type": "code",
   "execution_count": null,
   "metadata": {},
   "outputs": [],
   "source": [
    "nn = MLPRegressor(\n",
    "\tactivation='relu',\n",
    "\thidden_layer_sizes=(1000, 20),\n",
    "\tbatch_size='auto',\n",
    "\tmax_iter=1000,\n",
    "\tearly_stopping=True,\n",
    "\tlearning_rate='invscaling',\n",
    ")"
   ]
  },
  {
   "cell_type": "code",
   "execution_count": null,
   "metadata": {},
   "outputs": [],
   "source": [
    "nn.fit(trainSetX, trainSetY)"
   ]
  },
  {
   "cell_type": "code",
   "execution_count": null,
   "metadata": {},
   "outputs": [],
   "source": [
    "from sklearn.metrics import mean_absolute_error\n",
    "pred = nn.predict(testSetX)\n",
    "\n",
    "print(nn.score(testSetX, testSetY))\n",
    "print(mean_absolute_error(testSetY, pred))"
   ]
  },
  {
   "cell_type": "code",
   "execution_count": null,
   "metadata": {},
   "outputs": [],
   "source": [
    "import shap\n",
    "shap.initjs()\n",
    "\n",
    "X_sample = shap.sample(trainSetX, 100)\n",
    "\n",
    "explainer = shap.KernelExplainer(nn.predict, X_sample)\n",
    "shap_values = explainer.shap_values(testSetX, nsamples=100)\n",
    "shap.summary_plot(shap_values, testSetX)"
   ]
  }
 ],
 "metadata": {
  "kernelspec": {
   "display_name": "venv",
   "language": "python",
   "name": "python3"
  },
  "language_info": {
   "codemirror_mode": {
    "name": "ipython",
    "version": 3
   },
   "file_extension": ".py",
   "mimetype": "text/x-python",
   "name": "python",
   "nbconvert_exporter": "python",
   "pygments_lexer": "ipython3",
   "version": "3.7.8"
  },
  "orig_nbformat": 4,
  "vscode": {
   "interpreter": {
    "hash": "643871d4a624ddba02cfbd82649e219b91f86d6635dee751df381566eeda5c79"
   }
  }
 },
 "nbformat": 4,
 "nbformat_minor": 2
}
