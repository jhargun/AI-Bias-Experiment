{
 "cells": [
  {
   "cell_type": "code",
   "execution_count": 1,
   "metadata": {},
   "outputs": [],
   "source": [
    "import torch\n",
    "import torchvision\n",
    "from torchvision import transforms, datasets\n",
    "import torch.nn as nn\n",
    "import torch.nn.functional as F\n",
    "import torch.optim as optim\n",
    "import numpy as np\n",
    "from torch.utils.data import TensorDataset, DataLoader\n",
    "import time\n",
    "import sys\n",
    "import pandas as pd\n",
    "import json\n",
    "\n",
    "class Net(nn.Module):\n",
    "    def __init__(self):\n",
    "        super().__init__()\n",
    "        \n",
    "        # Change input size\n",
    "        self.input = nn.Linear(573, 128)\n",
    "        self.hidden1 = nn.Linear(128, 128)\n",
    "        self.hidden2 = nn.Linear(128, 128)\n",
    "        self.hidden3 = nn.Linear(128, 128)\n",
    "        self.output = nn.Linear(128, 1)\n",
    "        \n",
    "    def forward(self, x):\n",
    "        x = F.relu(self.input(x))\n",
    "        x = F.relu(self.hidden1(x))\n",
    "        x = F.relu(self.hidden2(x))\n",
    "        x = F.relu(self.hidden3(x))\n",
    "        x = self.output(x)\n",
    "        return x\n"
   ]
  },
  {
   "cell_type": "code",
   "execution_count": 2,
   "metadata": {},
   "outputs": [],
   "source": [
    "t = int(time.time())\n",
    "useCUDA = False\n",
    "dataPath = \"../large_field_preprocessed_data.csv\"\n",
    "epochs = 20\n",
    "batchSize = 128\n",
    "modelPath = f\"models/{t}\""
   ]
  },
  {
   "cell_type": "code",
   "execution_count": 3,
   "metadata": {},
   "outputs": [],
   "source": [
    "device = torch.device('cuda:0' if torch.cuda.is_available() else 'cpu')\n",
    "if not useCUDA:\n",
    "\tdevice = torch.device('cpu')"
   ]
  },
  {
   "cell_type": "code",
   "execution_count": 4,
   "metadata": {},
   "outputs": [],
   "source": [
    "data = pd.read_csv(dataPath)"
   ]
  },
  {
   "cell_type": "code",
   "execution_count": 5,
   "metadata": {},
   "outputs": [],
   "source": [
    "dropColumns = [\n",
    "    \"SERIAL\",\n",
    "    \"PERNUM\",\n",
    "    \"HHWT\",\n",
    "    \"CLUSTER\",\n",
    "    \"STRATA\",\n",
    "    \"PERWT\",\n",
    "    \"YRMARR\",\n",
    "    \"YRNATUR\",\n",
    "    \"RACNUM\",\n",
    "    \"index\",\n",
    "    \n",
    "]\n",
    "\n",
    "data = data.drop(columns=dropColumns)\n",
    "\n",
    "for column in data.columns:\n",
    "\tdata[column].fillna(False, inplace=True)\n",
    " \n",
    "data = data.drop(data[(data['INCWAGE_CPIU_2010'] == 0)].index)\n"
   ]
  },
  {
   "cell_type": "code",
   "execution_count": 6,
   "metadata": {},
   "outputs": [
    {
     "name": "stdout",
     "output_type": "stream",
     "text": [
      "(1369570, 574)\n",
      "Index(['AGE', 'WKSWORK1', 'UHRSWORK', 'INCWAGE_CPIU_2010', 'TRANTIME',\n",
      "       'isFemale', 'isAmericanIndian', 'isAsian', 'isBlack',\n",
      "       'isPacificIslander',\n",
      "       ...\n",
      "       'occupation_Machine_Feeders_and_Offbearers',\n",
      "       'occupation_Packers_and_Packagers_Hand',\n",
      "       'occupation_Pumping_Station_Operators',\n",
      "       'occupation_Refuse_and_Recyclable_Material_Collectors',\n",
      "       'occupation_Material_moving_workers_nec',\n",
      "       'occupation_Military_Officer_Special_and_Tactical_Operations_Leaders',\n",
      "       'occupation_First-Line_Enlisted_Military_Supervisors',\n",
      "       'occupation_Military_Enlisted_Tactical_Operations_and_Air/Weapons_Specialists_and_Crew_Members',\n",
      "       'occupation_Military_Rank_Not_Specified',\n",
      "       'occupation_Unemployed_with_No_Work_Experience_in_the_Last_5_Years_or_Earlier_or_Never_Worked'],\n",
      "      dtype='object', length=574)\n"
     ]
    }
   ],
   "source": [
    "print(data.shape)\n",
    "print(data.columns)\n",
    "\n",
    "# dump columns into json file\n",
    "with open(\"columns.json\", \"w\") as f:\n",
    "\tjson.dump(list(data.columns), f)\n",
    " \n",
    "with open(\"heads.json\", \"w\") as f:\n",
    "\tjson.dump(list(data.head(1).values[0]), f)\n",
    "\n",
    "# set to float32\n",
    "data['INCWAGE_CPIU_2010'] = data['INCWAGE_CPIU_2010'].astype(np.float32)\n",
    "\n",
    "for column in data.columns:\n",
    "\tif column == \"INCWAGE_CPIU_2010\":\n",
    "\t\tcontinue\n",
    "\tdata[column] = data[column].astype(np.float32)\n",
    "\n",
    "# print(data.head(1))"
   ]
  },
  {
   "cell_type": "code",
   "execution_count": 7,
   "metadata": {},
   "outputs": [],
   "source": [
    "xTensor = torch.tensor(data.drop(columns=['INCWAGE_CPIU_2010']).values, dtype=torch.float32)"
   ]
  },
  {
   "cell_type": "code",
   "execution_count": 8,
   "metadata": {},
   "outputs": [],
   "source": [
    "\n",
    "yTensor = torch.tensor(data['INCWAGE_CPIU_2010'].values, dtype=torch.float32)\n"
   ]
  },
  {
   "cell_type": "code",
   "execution_count": 9,
   "metadata": {},
   "outputs": [
    {
     "name": "stdout",
     "output_type": "stream",
     "text": [
      "torch.Size([1369570, 573])\n",
      "torch.Size([1369570])\n"
     ]
    }
   ],
   "source": [
    "\n",
    "print(xTensor.shape)\n",
    "print(yTensor.shape)\n"
   ]
  },
  {
   "cell_type": "code",
   "execution_count": 10,
   "metadata": {},
   "outputs": [],
   "source": [
    "# create dataset\n",
    "dataset = TensorDataset(xTensor, yTensor)\n",
    "\n",
    "# create dataloader for both train and test\n",
    "trainLoader = DataLoader(dataset, batch_size=batchSize, shuffle=True)"
   ]
  },
  {
   "cell_type": "code",
   "execution_count": 11,
   "metadata": {},
   "outputs": [
    {
     "data": {
      "text/plain": [
       "Net(\n",
       "  (input): Linear(in_features=573, out_features=128, bias=True)\n",
       "  (hidden1): Linear(in_features=128, out_features=128, bias=True)\n",
       "  (hidden2): Linear(in_features=128, out_features=128, bias=True)\n",
       "  (hidden3): Linear(in_features=128, out_features=128, bias=True)\n",
       "  (output): Linear(in_features=128, out_features=1, bias=True)\n",
       ")"
      ]
     },
     "execution_count": 11,
     "metadata": {},
     "output_type": "execute_result"
    }
   ],
   "source": [
    "net = Net()\n",
    "net.to(device)\n",
    "# X = torch.rand((1, 572))\n",
    "# print(net(X))"
   ]
  },
  {
   "cell_type": "code",
   "execution_count": 12,
   "metadata": {},
   "outputs": [
    {
     "name": "stdout",
     "output_type": "stream",
     "text": [
      "Epochs Started\n",
      "[1,  1000] loss: 5612911177.344\n",
      "[1,  2000] loss: 5512800308.864\n",
      "[1,  3000] loss: 5275259403.264\n",
      "[1,  4000] loss: 4431717682.176\n",
      "[1,  5000] loss: 3571730664.032\n",
      "[1,  6000] loss: 3241885942.528\n",
      "[1,  7000] loss: 3040397265.920\n",
      "[1,  8000] loss: 3087872453.120\n",
      "[1,  9000] loss: 3021061003.648\n",
      "[1, 10000] loss: 2962593602.624\n",
      "[2,  1000] loss: 2974626615.680\n",
      "[2,  2000] loss: 3020916042.112\n",
      "[2,  3000] loss: 2878301240.000\n",
      "[2,  4000] loss: 2842450719.872\n",
      "[2,  5000] loss: 2919820770.816\n",
      "[2,  6000] loss: 2948778435.264\n",
      "[2,  7000] loss: 2877514332.992\n",
      "[2,  8000] loss: 2928461682.624\n",
      "[2,  9000] loss: 2837417644.288\n",
      "[2, 10000] loss: 2856140328.896\n",
      "[3,  1000] loss: 2804650355.584\n",
      "[3,  2000] loss: 2832945164.288\n",
      "[3,  3000] loss: 2758494549.632\n",
      "[3,  4000] loss: 2787479975.808\n",
      "[3,  5000] loss: 2766017796.928\n",
      "[3,  6000] loss: 2743823345.792\n",
      "[3,  7000] loss: 2755527212.928\n",
      "[3,  8000] loss: 2655693886.656\n",
      "[3,  9000] loss: 2664162387.776\n",
      "[3, 10000] loss: 2707041591.936\n",
      "[4,  1000] loss: 2631340212.288\n",
      "[4,  2000] loss: 2673159458.304\n",
      "[4,  3000] loss: 2635942038.112\n",
      "[4,  4000] loss: 2546775107.904\n",
      "[4,  5000] loss: 2538047049.728\n",
      "[4,  6000] loss: 2502471441.664\n",
      "[4,  7000] loss: 2545096746.432\n",
      "[4,  8000] loss: 2450878756.224\n",
      "[4,  9000] loss: 2445880641.856\n",
      "[4, 10000] loss: 2385482266.880\n"
     ]
    }
   ],
   "source": [
    "\n",
    "optimizer = optim.Adam(net.parameters(), lr =1e-5)\n",
    "\n",
    "criterion = nn.MSELoss(reduction='mean')\n",
    "\n",
    "print(\"Epochs Started\")\n",
    "\n",
    "for epoch in range(epochs):\n",
    "\trunning_loss = 0.0\n",
    "\tfor i, data in enumerate(trainLoader):\n",
    "\t\tX, y = data\n",
    "\t\tX.to(device)\n",
    "\t\ty.to(device)\n",
    "\t\ty = y.unsqueeze(1)\n",
    "  \n",
    "\t\tnet.zero_grad()\n",
    "\n",
    "\n",
    "\t\toutput = net(X)\n",
    "\n",
    "\t\tloss = criterion(output, y)\n",
    "\t\tloss.backward()\n",
    "\t\toptimizer.step()\n",
    "\t\trunning_loss += loss.item()\n",
    "\t\tif i % 1000 == 999:    # print every 1000 mini-batches\n",
    "\t\t\tprint(f'[{epoch + 1}, {i + 1:5d}] loss: {running_loss / 1000:.3f}')\n",
    "\t\t\trunning_loss = 0.0\n",
    "\n",
    "torch.save(net.state_dict(), modelPath)\n",
    "torch.cuda.empty_cache()\n"
   ]
  }
 ],
 "metadata": {
  "kernelspec": {
   "display_name": "venv",
   "language": "python",
   "name": "python3"
  },
  "language_info": {
   "codemirror_mode": {
    "name": "ipython",
    "version": 3
   },
   "file_extension": ".py",
   "mimetype": "text/x-python",
   "name": "python",
   "nbconvert_exporter": "python",
   "pygments_lexer": "ipython3",
   "version": "3.7.8"
  },
  "orig_nbformat": 4
 },
 "nbformat": 4,
 "nbformat_minor": 2
}
