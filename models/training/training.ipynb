{
 "cells": [
  {
   "cell_type": "code",
   "execution_count": 19,
   "metadata": {},
   "outputs": [],
   "source": [
    "import torch\n",
    "from torchvision import transforms, datasets\n",
    "import torch.nn as nn\n",
    "import torch.nn.functional as F\n",
    "import torch.optim as optim\n",
    "import numpy as np\n",
    "from torch.utils.data import TensorDataset, DataLoader\n",
    "import time\n",
    "import pandas as pd"
   ]
  },
  {
   "attachments": {},
   "cell_type": "markdown",
   "metadata": {},
   "source": [
    "Model Definition"
   ]
  },
  {
   "cell_type": "code",
   "execution_count": 28,
   "metadata": {},
   "outputs": [],
   "source": [
    "class Net(nn.Module):\n",
    "    def __init__(self):\n",
    "        super().__init__()\n",
    "        self.input = nn.Linear(573, 2048)\n",
    "        self.hidden1 = nn.Linear(2048, 1024)\n",
    "        self.hidden2 = nn.Linear(1024, 512)\n",
    "        self.hidden3 = nn.Linear(512, 256)\n",
    "        self.hidden4 = nn.Linear(256, 128)\n",
    "        self.hidden5 = nn.Linear(128, 64)\n",
    "        self.hidden6 = nn.Linear(64, 32)\n",
    "        self.output = nn.Linear(32, 1)\n",
    "        \n",
    "    def forward(self, x):\n",
    "        x = F.relu(self.input(x))\n",
    "        x = F.relu(self.hidden1(x))\n",
    "        x = F.relu(self.hidden2(x))\n",
    "        x = F.relu(self.hidden3(x))\n",
    "        x = F.relu(self.hidden4(x))\n",
    "        x = F.relu(self.hidden5(x))\n",
    "        x = F.relu(self.hidden6(x))\n",
    "        x = self.output(x)\n",
    "        return x"
   ]
  },
  {
   "attachments": {},
   "cell_type": "markdown",
   "metadata": {},
   "source": [
    "Variables Definintions"
   ]
  },
  {
   "cell_type": "code",
   "execution_count": 21,
   "metadata": {},
   "outputs": [],
   "source": [
    "t = int(time.time())\n",
    "useCUDA = True\n",
    "dataPath = \"../large_field_preprocessed_data.csv\"\n",
    "epochs = 50\n",
    "batchSize = 32\n",
    "modelPath = f\"../trained_models/{t}\""
   ]
  },
  {
   "attachments": {},
   "cell_type": "markdown",
   "metadata": {},
   "source": [
    "Device Check"
   ]
  },
  {
   "cell_type": "code",
   "execution_count": 22,
   "metadata": {},
   "outputs": [],
   "source": [
    "device = torch.device('cuda:0' if torch.cuda.is_available() else 'cpu')\n",
    "if not useCUDA:\n",
    "\tdevice = torch.device('cpu')"
   ]
  },
  {
   "cell_type": "code",
   "execution_count": 23,
   "metadata": {},
   "outputs": [],
   "source": [
    "# xTensor = torch.tensor(data.drop(columns=['INCWAGE_CPIU_2010']).values, dtype=torch.float32)\n",
    "# yTensor = torch.tensor(data['INCWAGE_CPIU_2010'].values, dtype=torch.float32)"
   ]
  },
  {
   "attachments": {},
   "cell_type": "markdown",
   "metadata": {},
   "source": [
    "Model and Dataset Creation"
   ]
  },
  {
   "cell_type": "code",
   "execution_count": 29,
   "metadata": {},
   "outputs": [],
   "source": [
    "net = Net()\n",
    "net = net.to(device)\n",
    "\n",
    "\n",
    "trainSet = torch.load(\"../dataset/trainSet.pt\")\n",
    "# trainSet = trainSet.to(device)\n",
    "# create dataloader for both train and test\n",
    "trainLoader = DataLoader(trainSet, batch_size=batchSize, shuffle=True)"
   ]
  },
  {
   "attachments": {},
   "cell_type": "markdown",
   "metadata": {},
   "source": [
    "Training"
   ]
  },
  {
   "cell_type": "code",
   "execution_count": 30,
   "metadata": {},
   "outputs": [
    {
     "name": "stdout",
     "output_type": "stream",
     "text": [
      "Epochs Started\n",
      "[1,  1000] loss: 4402729116.480\n",
      "[1,  2000] loss: 2992651744.416\n",
      "[1,  3000] loss: 3014048884.224\n",
      "[1,  4000] loss: 2783807846.432\n",
      "[1,  5000] loss: 2922727249.376\n",
      "[1,  6000] loss: 2833529335.744\n",
      "[1,  7000] loss: 2753362227.616\n",
      "[1,  8000] loss: 2839281310.080\n",
      "[1,  9000] loss: 2675294500.064\n",
      "[1, 10000] loss: 2788983097.216\n",
      "[1, 11000] loss: 2765732781.312\n",
      "[1, 12000] loss: 2608823484.064\n",
      "[1, 13000] loss: 2542186785.296\n",
      "[1, 14000] loss: 2599845117.440\n",
      "[1, 15000] loss: 2528826241.952\n",
      "[1, 16000] loss: 2515833738.752\n",
      "[1, 17000] loss: 2465628904.224\n",
      "[1, 18000] loss: 2305377943.360\n",
      "[1, 19000] loss: 2155122806.288\n",
      "[1, 20000] loss: 2370942224.624\n",
      "[1, 21000] loss: 2193116138.416\n",
      "[1, 22000] loss: 2321080503.776\n",
      "[1, 23000] loss: 2265057340.464\n",
      "[1, 24000] loss: 2116005688.992\n",
      "[1, 25000] loss: 2194132947.328\n",
      "[1, 26000] loss: 2206054497.136\n",
      "[1, 27000] loss: 2057425385.952\n",
      "[1, 28000] loss: 2206997738.128\n",
      "[1, 29000] loss: 2109864402.976\n",
      "[1, 30000] loss: 2158060804.720\n",
      "[1, 31000] loss: 1963388754.688\n",
      "[1, 32000] loss: 2076960309.328\n",
      "[1, 33000] loss: 2048365951.088\n",
      "[1, 34000] loss: 1876774801.920\n",
      "[1, 35000] loss: 2063310822.528\n",
      "[1, 36000] loss: 1941630538.960\n",
      "[1, 37000] loss: 2047687165.056\n",
      "[1, 38000] loss: 1962988308.720\n",
      "[1, 39000] loss: 1925878760.224\n",
      "[1, 40000] loss: 2007985647.280\n",
      "[2,  1000] loss: 1917006932.368\n"
     ]
    }
   ],
   "source": [
    "\n",
    "optimizer = optim.Adam(net.parameters(), lr =1e-5)\n",
    "\n",
    "criterion = nn.MSELoss(reduction='mean')\n",
    "\n",
    "print(\"Epochs Started\")\n",
    "\n",
    "for epoch in range(epochs):\n",
    "\trunning_loss = 0.0\n",
    "\tfor i, data in enumerate(trainLoader):\n",
    "\t\tX, y = data\n",
    "\t\ty = y.unsqueeze(1)\n",
    "\t\tX = X.to(device)\n",
    "\t\ty = y.to(device)\n",
    "\n",
    "\t\tnet.zero_grad()\n",
    "\n",
    "\t\toutput = net(X)\n",
    "\n",
    "\t\tloss = criterion(output, y)\n",
    "\t\tloss.backward()\n",
    "\t\toptimizer.step()\n",
    "\t\trunning_loss += loss.item()\n",
    "\t\tif i % 1000 == 999:    # print every 1000 mini-batches\n",
    "\t\t\tprint(f'[{epoch + 1}, {i + 1:5d}] loss: {running_loss / 1000:.3f}')\n",
    "\t\t\trunning_loss = 0.0\n",
    "\n",
    "torch.save(net.state_dict(), modelPath)\n",
    "torch.cuda.empty_cache()\n"
   ]
  }
 ],
 "metadata": {
  "kernelspec": {
   "display_name": "venv",
   "language": "python",
   "name": "python3"
  },
  "language_info": {
   "codemirror_mode": {
    "name": "ipython",
    "version": 3
   },
   "file_extension": ".py",
   "mimetype": "text/x-python",
   "name": "python",
   "nbconvert_exporter": "python",
   "pygments_lexer": "ipython3",
   "version": "3.7.8"
  },
  "orig_nbformat": 4
 },
 "nbformat": 4,
 "nbformat_minor": 2
}
