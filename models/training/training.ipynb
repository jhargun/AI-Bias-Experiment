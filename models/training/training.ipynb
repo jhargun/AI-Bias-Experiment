{
 "cells": [
  {
   "cell_type": "code",
   "execution_count": null,
   "metadata": {},
   "outputs": [],
   "source": [
    "import torch\n",
    "import torch.nn as nn\n",
    "import torch.nn.functional as F\n",
    "import torch.optim as optim\n",
    "import numpy as np\n",
    "from torch.utils.data import TensorDataset, DataLoader\n",
    "import time\n",
    "import pandas as pd\n",
    "import os"
   ]
  },
  {
   "cell_type": "markdown",
   "metadata": {},
   "source": [
    "Variables Definintions"
   ]
  },
  {
   "cell_type": "code",
   "execution_count": null,
   "metadata": {},
   "outputs": [],
   "source": [
    "t = int(time.time())\n",
    "inputSize = 559\n",
    "useCUDA = True\n",
    "epochs = 1000\n",
    "batchSize = 1024\n",
    "lr = 1e-5\n",
    "\n",
    "name = \"NotProtectedFields\"\n",
    "\n",
    "dir = os.getcwd()\n",
    "modelFolder = f\"{dir}/../trained_models/\"\n",
    "if not os.path.exists(modelFolder):\n",
    "\tos.makedirs(modelFolder)\n",
    "\n",
    "modelPath = f\"{modelFolder}{t}-{batchSize}-{inputSize}-{name}.pt\""
   ]
  },
  {
   "cell_type": "markdown",
   "metadata": {},
   "source": [
    "Device Check"
   ]
  },
  {
   "cell_type": "code",
   "execution_count": null,
   "metadata": {},
   "outputs": [],
   "source": [
    "device = torch.device('cuda:0' if torch.cuda.is_available() else 'cpu')\n",
    "if not useCUDA:\n",
    "\tdevice = torch.device('cpu')"
   ]
  },
  {
   "attachments": {},
   "cell_type": "markdown",
   "metadata": {},
   "source": [
    "Model Definition"
   ]
  },
  {
   "cell_type": "code",
   "execution_count": null,
   "metadata": {},
   "outputs": [],
   "source": [
    "net = nn.Sequential(nn.Linear(inputSize, 2048),\n",
    "                    nn.LeakyReLU(),\n",
    "                    nn.Linear(2048, 1024),\n",
    "                    nn.LeakyReLU(),\n",
    "                    nn.Linear(1024, 512),\n",
    "                    nn.LeakyReLU(),\n",
    "                    nn.Linear(512, 256),\n",
    "                    nn.LeakyReLU(),\n",
    "                    nn.Linear(256, 128),\n",
    "                    nn.LeakyReLU(),\n",
    "                    nn.Linear(128, 64),\n",
    "                    nn.LeakyReLU(),\n",
    "                    nn.Linear(64,32),\n",
    "                    nn.LeakyReLU(),\n",
    "                    nn.Linear(32,1))\n",
    "net = net.to(device)\n",
    "\n",
    "# class Net(nn.Module):\n",
    "#     def __init__(self):\n",
    "#         super().__init__()\n",
    "#         self.input = nn.Linear(inputSize, 2048)\n",
    "#         self.hidden1 = nn.Linear(2048, 1024)\n",
    "#         self.hidden2 = nn.Linear(1024, 512)\n",
    "#         self.hidden3 = nn.Linear(512, 256)\n",
    "#         self.hidden4 = nn.Linear(256, 128)\n",
    "#         self.hidden5 = nn.Linear(128, 64)\n",
    "#         self.hidden6 = nn.Linear(64, 32)\n",
    "#         self.output = nn.Linear(32, 1)\n",
    "        \n",
    "#     def forward(self, x):\n",
    "#         x = F.leaky_relu(self.input(x))\n",
    "#         x = F.leaky_relu(self.hidden1(x))\n",
    "#         x = F.leaky_relu(self.hidden2(x))\n",
    "#         x = F.leaky_relu(self.hidden3(x))\n",
    "#         x = F.leaky_relu(self.hidden4(x))\n",
    "#         x = F.leaky_relu(self.hidden5(x))\n",
    "#         x = F.leaky_relu(self.hidden6(x))\n",
    "#         x = self.output(x)\n",
    "#         return x\n",
    "    \n",
    "# net = Net()\n",
    "# net = nn.Sequential(nn.Linear(inputSize, 2048),\n",
    "#                     nn.LeakyReLU(),\n",
    "#                     nn.Linear(2048, 1024),\n",
    "#                     nn.LeakyReLU(),\n",
    "#                     nn.Linear(1024, 512),\n",
    "#                     nn.LeakyReLU(),\n",
    "#                     nn.Linear(512, 256),\n",
    "#                     nn.LeakyReLU(),\n",
    "#                     nn.Linear(256, 128),\n",
    "#                     nn.LeakyReLU(),\n",
    "#                     nn.Linear(128, 64),\n",
    "#                     nn.LeakyReLU(),\n",
    "#                     nn.Linear(64,32),\n",
    "#                     nn.LeakyReLU(),\n",
    "#                     nn.Linear(32,1))\n",
    "\n",
    "# net = net.to(device)\n",
    "\n",
    "# from classification_model import ClassificationNet\n",
    "# net = ClassificationNet(inputSize)\n",
    "# net = net.to(device)"
   ]
  },
  {
   "attachments": {},
   "cell_type": "markdown",
   "metadata": {},
   "source": [
    "Model and Dataset Creation"
   ]
  },
  {
   "cell_type": "code",
   "execution_count": null,
   "metadata": {},
   "outputs": [],
   "source": [
    "trainSetX = torch.load(\"../dataset/trainSetXNotProtected.pt\")\n",
    "trainSetY = torch.load(\"../dataset/trainSetYNotProtected.pt\")\n",
    "# trainSetX = trainSetX.to(device)\n",
    "# trainSetY = trainSetY.to(device)\n",
    "print(trainSetX.shape)\n",
    "print(trainSetY.shape)"
   ]
  },
  {
   "cell_type": "code",
   "execution_count": null,
   "metadata": {},
   "outputs": [],
   "source": [
    "testSetX = torch.load(\"../dataset/testSetXNotProtected.pt\")\n",
    "testSetY = torch.load(\"../dataset/testSetYNotProtected.pt\")\n",
    "# testSetX = testSetX.to(device)\n",
    "# testSetY = testSetY.to(device)\n",
    "print(testSetX.shape)\n",
    "print(testSetY.shape)"
   ]
  },
  {
   "cell_type": "code",
   "execution_count": null,
   "metadata": {},
   "outputs": [],
   "source": [
    "trainSet = TensorDataset(trainSetX, trainSetY)\n",
    "trainLoader = DataLoader(trainSet, batch_size=batchSize, shuffle=True)"
   ]
  },
  {
   "cell_type": "code",
   "execution_count": null,
   "metadata": {},
   "outputs": [],
   "source": [
    "testSet = TensorDataset(testSetX, testSetY)\n",
    "testLoader = DataLoader(testSet, batch_size=len(testSet), shuffle=True)"
   ]
  },
  {
   "attachments": {},
   "cell_type": "markdown",
   "metadata": {},
   "source": [
    "Training"
   ]
  },
  {
   "cell_type": "code",
   "execution_count": null,
   "metadata": {},
   "outputs": [],
   "source": [
    "# This function takes a loss function and returns a weighted version that allows sample weights\n",
    "def getWeightedVersion(loss_fn):\n",
    "    def weighted_loss(y_true, y_pred, weight):\n",
    "        return (loss_fn(y_true, y_pred) * weight).mean()\n",
    "    return weighted_loss"
   ]
  },
  {
   "cell_type": "code",
   "execution_count": null,
   "metadata": {},
   "outputs": [],
   "source": [
    "optimizer = optim.Adam(net.parameters(), lr = lr)\n",
    "\n",
    "trainCriterion = nn.HuberLoss(reduction='mean', delta=1.35)\n",
    "testCriterion = nn.L1Loss(reduction='mean')\n",
    "\n",
    "print(\"Epochs Started\")\n",
    "\n",
    "bestLoss = float('inf')\n",
    "\n",
    "for epoch in range(epochs):\n",
    "\tnet.train()\n",
    "\trunning_loss = 0.0\n",
    "\ttorch.cuda.empty_cache()\n",
    "\tfor i, data in enumerate(trainLoader):\n",
    "\t\tX, y = data\n",
    "\t\ty = y.unsqueeze(1)\n",
    "\t\tX = X.to(device)\n",
    "\t\ty = y.to(device)\n",
    "  \n",
    "\t\tnet.zero_grad()\n",
    "\t\toutput = net(X)\n",
    "\t\tloss = trainCriterion(output, y)\n",
    "\t\t# print(loss)\n",
    "\t\tloss.backward()\n",
    "\t\toptimizer.step()\n",
    "\t\trunning_loss += loss.item()\n",
    "\t\t# if i % 1000 == 999:    # print every 1000 mini-batches\n",
    "\tprint(f'Epoch {epoch+1}, Train loss: {running_loss/len(trainLoader):.5f}')\n",
    "\trunning_loss = 0.0\n",
    "\t\n",
    "\t\n",
    "\ttorch.cuda.empty_cache()\n",
    "\tnet.eval()\n",
    "\twith torch.no_grad():\n",
    "\t\ttest_running_loss = 0.0\n",
    "\t\tfor i, data in enumerate(testLoader):\n",
    "\t\t\ttorch.cuda.empty_cache()\n",
    "\t\t\tX, y = data\n",
    "\t\t\ty = y.unsqueeze(1)\n",
    "\t\t\tX = X.to(device)\n",
    "\t\t\ty = y.to(device)\n",
    "   \n",
    "\t\t\toutput = net(X)\n",
    "\t\t\ttestLoss = testCriterion(output, y)\n",
    "\t\t\ttest_running_loss += testLoss.item()\n",
    "\t\tprint(f'Epoch {epoch+1}, Test loss: {test_running_loss/len(testLoader):.5f}')\n",
    "\t\tif test_running_loss/len(testLoader) < bestLoss:\n",
    "\t\t\tbestLoss = test_running_loss/len(testLoader)\n",
    "\t\t\ttorch.save(net.state_dict(), modelPath)\n",
    "\t\t\tprint(\"Model Saved\")\n",
    "\n",
    "torch.cuda.empty_cache()"
   ]
  }
 ],
 "metadata": {
  "kernelspec": {
   "display_name": "venv",
   "language": "python",
   "name": "python3"
  },
  "language_info": {
   "codemirror_mode": {
    "name": "ipython",
    "version": 3
   },
   "file_extension": ".py",
   "mimetype": "text/x-python",
   "name": "python",
   "nbconvert_exporter": "python",
   "pygments_lexer": "ipython3",
   "version": "3.7.8"
  },
  "orig_nbformat": 4,
  "vscode": {
   "interpreter": {
    "hash": "643871d4a624ddba02cfbd82649e219b91f86d6635dee751df381566eeda5c79"
   }
  }
 },
 "nbformat": 4,
 "nbformat_minor": 2
}
