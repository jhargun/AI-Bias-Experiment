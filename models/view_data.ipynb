{
 "cells": [
  {
   "cell_type": "code",
   "execution_count": 1,
   "metadata": {},
   "outputs": [],
   "source": [
    "import torch\n",
    "import numpy as np\n",
    "from torch.utils.data import TensorDataset\n",
    "import pandas as pd\n",
    "import json"
   ]
  },
  {
   "cell_type": "code",
   "execution_count": 2,
   "metadata": {},
   "outputs": [],
   "source": [
    "trainSetX = torch.load('dataset/trainSetX.pt')\n",
    "trainSetY = torch.load('dataset/trainSetY.pt')"
   ]
  },
  {
   "cell_type": "code",
   "execution_count": 3,
   "metadata": {},
   "outputs": [],
   "source": [
    "testSetX = torch.load(\"dataset/testSetX.pt\")\n",
    "testSetY = torch.load(\"dataset/testSetY.pt\")"
   ]
  },
  {
   "cell_type": "code",
   "execution_count": 4,
   "metadata": {},
   "outputs": [
    {
     "name": "stdout",
     "output_type": "stream",
     "text": [
      "torch.Size([1231497, 573])\n",
      "torch.Size([1231497])\n",
      "tensor([[33., 52., 42.,  ...,  0.,  0.,  0.],\n",
      "        [49., 52., 45.,  ...,  0.,  0.,  0.],\n",
      "        [51., 52., 40.,  ...,  0.,  0.,  0.],\n",
      "        ...,\n",
      "        [49., 52., 50.,  ...,  0.,  0.,  0.],\n",
      "        [31., 33., 12.,  ...,  0.,  0.,  0.],\n",
      "        [51., 52., 40.,  ...,  0.,  0.,  0.]])\n",
      "tensor(-0.2253)\n",
      "tensor(0.6030)\n",
      "tensor(-0.3743)\n",
      "tensor(-1.)\n",
      "tensor(1.)\n"
     ]
    }
   ],
   "source": [
    "print(trainSetX.shape)\n",
    "print(trainSetY.shape)\n",
    "print(trainSetX)\n",
    "print(trainSetY.mean())\n",
    "print(trainSetY.std())\n",
    "print(trainSetY.median())\n",
    "print(trainSetY.min())\n",
    "print(trainSetY.max())\n"
   ]
  },
  {
   "cell_type": "code",
   "execution_count": 5,
   "metadata": {},
   "outputs": [
    {
     "name": "stdout",
     "output_type": "stream",
     "text": [
      "tensor(-0.2268)\n",
      "tensor(0.6033)\n",
      "tensor(-0.3743)\n",
      "tensor(1.)\n"
     ]
    }
   ],
   "source": [
    "print(testSetY.mean())\n",
    "print(testSetY.std())\n",
    "print(testSetY.median())\n",
    "print(testSetY.max())"
   ]
  },
  {
   "cell_type": "code",
   "execution_count": 6,
   "metadata": {},
   "outputs": [
    {
     "name": "stdout",
     "output_type": "stream",
     "text": [
      "tensor(52.)\n",
      "TRANTIME 2\n",
      "isFemale 3\n",
      "isOtherRace 9\n",
      "hasEmployerHealthInsurance 11\n",
      "hasPurchasedPrivHealthInsurance 12\n",
      "hasMilitaryHealthInsurance 13\n",
      "isInSchool 20\n",
      "isMarried 27\n",
      "speaksEnglish 30\n",
      "speaksOnlyEnglish 31\n",
      "speaksEnglishWell 32\n",
      "noSchooling 33\n",
      "someCollege 38\n",
      "isPublicSector 47\n",
      "commutePublicTransportation 50\n",
      "worksIn_Indiana 70\n",
      "occupation_Machine_Feeders_and_Offbearers 562\n",
      "tensor(-0.8889)\n"
     ]
    }
   ],
   "source": [
    "# print(testSetX[0])\n",
    "# print(testSetY[0])\n",
    "\n",
    "person = 80\n",
    "\n",
    "print(testSetX[person][1])\n",
    "\n",
    "with open('dataset/columns.json') as f:\n",
    "    columns = json.load(f)\n",
    "    for i in range(2, 571):\n",
    "        if(testSetX[person][i] != 0):\n",
    "            print(columns[i+1], i)\n",
    "\n",
    "print(testSetY[person])"
   ]
  }
 ],
 "metadata": {
  "kernelspec": {
   "display_name": "venv",
   "language": "python",
   "name": "python3"
  },
  "language_info": {
   "codemirror_mode": {
    "name": "ipython",
    "version": 3
   },
   "file_extension": ".py",
   "mimetype": "text/x-python",
   "name": "python",
   "nbconvert_exporter": "python",
   "pygments_lexer": "ipython3",
   "version": "3.7.8"
  },
  "orig_nbformat": 4,
  "vscode": {
   "interpreter": {
    "hash": "643871d4a624ddba02cfbd82649e219b91f86d6635dee751df381566eeda5c79"
   }
  }
 },
 "nbformat": 4,
 "nbformat_minor": 2
}
