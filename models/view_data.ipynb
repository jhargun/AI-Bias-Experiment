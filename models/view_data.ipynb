{
 "cells": [
  {
   "cell_type": "code",
   "execution_count": null,
   "metadata": {},
   "outputs": [],
   "source": [
    "import torch\n",
    "import numpy as np\n",
    "from torch.utils.data import TensorDataset\n",
    "import pandas as pd\n",
    "import json\n",
    "import matplotlib\n",
    "from scipy.stats import median_absolute_deviation"
   ]
  },
  {
   "cell_type": "code",
   "execution_count": null,
   "metadata": {},
   "outputs": [],
   "source": [
    "trainSetX = torch.load('dataset/trainSetX.pt')\n",
    "trainSetY = torch.load('dataset/trainSetY.pt')"
   ]
  },
  {
   "cell_type": "code",
   "execution_count": null,
   "metadata": {},
   "outputs": [],
   "source": [
    "testSetX = torch.load(\"dataset/testSetX.pt\")\n",
    "testSetY = torch.load(\"dataset/testSetY.pt\")"
   ]
  },
  {
   "cell_type": "code",
   "execution_count": null,
   "metadata": {},
   "outputs": [],
   "source": [
    "print(trainSetX.shape)\n",
    "print(trainSetY.shape)\n",
    "print(trainSetX)\n",
    "print(trainSetY.mean())\n",
    "print(trainSetY.std())\n",
    "print(trainSetY.median())\n",
    "print(trainSetY.min())\n",
    "print(trainSetY.max())\n",
    "print(trainSetY.shape)\n"
   ]
  },
  {
   "cell_type": "code",
   "execution_count": null,
   "metadata": {},
   "outputs": [],
   "source": [
    "temp = trainSetY.numpy()\n",
    "print(median_absolute_deviation(temp))\n"
   ]
  },
  {
   "cell_type": "code",
   "execution_count": null,
   "metadata": {},
   "outputs": [],
   "source": [
    "print(testSetY.mean())\n",
    "print(testSetY.std())\n",
    "print(testSetY.median())\n",
    "print(testSetY.max())"
   ]
  },
  {
   "cell_type": "code",
   "execution_count": null,
   "metadata": {},
   "outputs": [],
   "source": [
    "# print(testSetX[0])\n",
    "# print(testSetY[0])\n",
    "\n",
    "person = 80\n",
    "\n",
    "print(testSetX[person][1])\n",
    "\n",
    "with open('dataset/columns.json') as f:\n",
    "    columns = json.load(f)\n",
    "    for i in range(2, 571):\n",
    "        if(testSetX[person][i] != 0):\n",
    "            print(columns[i+1], i)\n",
    "\n",
    "print(testSetY[person])"
   ]
  }
 ],
 "metadata": {
  "kernelspec": {
   "display_name": "venv",
   "language": "python",
   "name": "python3"
  },
  "language_info": {
   "codemirror_mode": {
    "name": "ipython",
    "version": 3
   },
   "file_extension": ".py",
   "mimetype": "text/x-python",
   "name": "python",
   "nbconvert_exporter": "python",
   "pygments_lexer": "ipython3",
   "version": "3.7.8"
  },
  "orig_nbformat": 4,
  "vscode": {
   "interpreter": {
    "hash": "643871d4a624ddba02cfbd82649e219b91f86d6635dee751df381566eeda5c79"
   }
  }
 },
 "nbformat": 4,
 "nbformat_minor": 2
}
