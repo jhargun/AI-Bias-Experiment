{
 "cells": [
  {
   "cell_type": "code",
   "execution_count": 57,
   "metadata": {},
   "outputs": [],
   "source": [
    "import torch\n",
    "import numpy as np\n",
    "from torch.utils.data import TensorDataset\n",
    "import pandas as pd\n",
    "import json"
   ]
  },
  {
   "cell_type": "code",
   "execution_count": 58,
   "metadata": {},
   "outputs": [],
   "source": [
    "testSetX = torch.load(\"dataset/testSetX.pt\")\n",
    "testSetY = torch.load(\"dataset/testSetY.pt\")"
   ]
  },
  {
   "cell_type": "code",
   "execution_count": 66,
   "metadata": {},
   "outputs": [
    {
     "name": "stdout",
     "output_type": "stream",
     "text": [
      "tensor(45677.3867)\n",
      "tensor(57152.1562)\n",
      "tensor(31285.)\n",
      "tensor(615527.)\n",
      "tensor(-4322.6113)\n"
     ]
    }
   ],
   "source": [
    "print(testSetY.mean())\n",
    "print(testSetY.std())\n",
    "print(testSetY.median())\n",
    "print(testSetY.max())\n",
    "\n",
    "testY = testSetY - 50000\n",
    "print(testY.mean())"
   ]
  },
  {
   "cell_type": "code",
   "execution_count": 56,
   "metadata": {},
   "outputs": [
    {
     "name": "stdout",
     "output_type": "stream",
     "text": [
      "tensor(40.)\n",
      "isOtherRace 7\n",
      "hasMedicare 13\n",
      "hasVeteransHealthInsurance 15\n",
      "isInSchool 18\n",
      "carpools 19\n",
      "isGroupQuarters 23\n",
      "wasMarried 26\n",
      "speaksOnlyEnglish 29\n",
      "noSchooling 31\n",
      "someCollege 36\n",
      "isPublicSector 45\n",
      "commutePublicTransportation 48\n",
      "attendingPrivateSchool 52\n",
      "worksIn_Colorado 59\n",
      "occupation_Food_Servers_Nonrestaurant 320\n",
      "tensor(9385.)\n"
     ]
    }
   ],
   "source": [
    "# print(testSetX[0])\n",
    "# print(testSetY[0])\n",
    "\n",
    "person = 80\n",
    "\n",
    "print(testSetX[person][1])\n",
    "\n",
    "with open('dataset/columns.json') as f:\n",
    "    columns = json.load(f)\n",
    "    for i in range(2, 571):\n",
    "        if(testSetX[person][i] != 0):\n",
    "            print(columns[i+1], i)\n",
    "\n",
    "print(testSetY[person])"
   ]
  }
 ],
 "metadata": {
  "kernelspec": {
   "display_name": "venv",
   "language": "python",
   "name": "python3"
  },
  "language_info": {
   "codemirror_mode": {
    "name": "ipython",
    "version": 3
   },
   "file_extension": ".py",
   "mimetype": "text/x-python",
   "name": "python",
   "nbconvert_exporter": "python",
   "pygments_lexer": "ipython3",
   "version": "3.7.8"
  },
  "orig_nbformat": 4
 },
 "nbformat": 4,
 "nbformat_minor": 2
}
